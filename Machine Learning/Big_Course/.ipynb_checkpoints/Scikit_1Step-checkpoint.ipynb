{
 "cells": [
  {
   "cell_type": "code",
   "execution_count": 2,
   "id": "cc06ffde",
   "metadata": {},
   "outputs": [],
   "source": [
    "import numpy as np\n",
    "import pandas as pd\n",
    "import matplotlib.pyplot as pyplot\n",
    "%matplotlib inline"
   ]
  },
  {
   "cell_type": "code",
   "execution_count": 3,
   "id": "eda4a32a",
   "metadata": {},
   "outputs": [],
   "source": [
    "heart_disease=pd.read_csv(\"zero-to-mastery-ml-master/data/heart-disease.csv\")"
   ]
  },
  {
   "cell_type": "code",
   "execution_count": 4,
   "id": "892ae7fd",
   "metadata": {},
   "outputs": [],
   "source": [
    "X=heart_disease.drop(\"target\",axis=1)\n",
    "y=heart_disease[\"target\"]"
   ]
  },
  {
   "cell_type": "code",
   "execution_count": 28,
   "id": "bf99e0e7",
   "metadata": {},
   "outputs": [],
   "source": [
    "from sklearn.model_selection import train_test_split\n",
    "from sklearn.ensemble import RandomForestRegressor\n",
    "\n",
    "model=RandomForestRegressor()\n",
    "\n",
    "X_train,X_test,y_train,y_test=train_test_split(X,y,test_size=0.5)\n",
    "\n"
   ]
  },
  {
   "cell_type": "code",
   "execution_count": 29,
   "id": "0270b98d",
   "metadata": {},
   "outputs": [
    {
     "ename": "ValueError",
     "evalue": "could not convert string to float: 'Honda'",
     "output_type": "error",
     "traceback": [
      "\u001b[1;31m---------------------------------------------------------------------------\u001b[0m",
      "\u001b[1;31mValueError\u001b[0m                                Traceback (most recent call last)",
      "\u001b[1;32m<ipython-input-29-b7a8c64777c1>\u001b[0m in \u001b[0;36m<module>\u001b[1;34m\u001b[0m\n\u001b[1;32m----> 1\u001b[1;33m \u001b[0mmodel\u001b[0m\u001b[1;33m.\u001b[0m\u001b[0mfit\u001b[0m\u001b[1;33m(\u001b[0m\u001b[0mX_train\u001b[0m\u001b[1;33m,\u001b[0m\u001b[0my_train\u001b[0m\u001b[1;33m)\u001b[0m\u001b[1;33m\u001b[0m\u001b[1;33m\u001b[0m\u001b[0m\n\u001b[0m",
      "\u001b[1;32mD:\\Programming\\MACHINE_LEARNING\\ML_ENV\\lib\\site-packages\\sklearn\\ensemble\\_forest.py\u001b[0m in \u001b[0;36mfit\u001b[1;34m(self, X, y, sample_weight)\u001b[0m\n\u001b[0;32m    302\u001b[0m                 \u001b[1;34m\"sparse multilabel-indicator for y is not supported.\"\u001b[0m\u001b[1;33m\u001b[0m\u001b[1;33m\u001b[0m\u001b[0m\n\u001b[0;32m    303\u001b[0m             )\n\u001b[1;32m--> 304\u001b[1;33m         X, y = self._validate_data(X, y, multi_output=True,\n\u001b[0m\u001b[0;32m    305\u001b[0m                                    accept_sparse=\"csc\", dtype=DTYPE)\n\u001b[0;32m    306\u001b[0m         \u001b[1;32mif\u001b[0m \u001b[0msample_weight\u001b[0m \u001b[1;32mis\u001b[0m \u001b[1;32mnot\u001b[0m \u001b[1;32mNone\u001b[0m\u001b[1;33m:\u001b[0m\u001b[1;33m\u001b[0m\u001b[1;33m\u001b[0m\u001b[0m\n",
      "\u001b[1;32mD:\\Programming\\MACHINE_LEARNING\\ML_ENV\\lib\\site-packages\\sklearn\\base.py\u001b[0m in \u001b[0;36m_validate_data\u001b[1;34m(self, X, y, reset, validate_separately, **check_params)\u001b[0m\n\u001b[0;32m    431\u001b[0m                 \u001b[0my\u001b[0m \u001b[1;33m=\u001b[0m \u001b[0mcheck_array\u001b[0m\u001b[1;33m(\u001b[0m\u001b[0my\u001b[0m\u001b[1;33m,\u001b[0m \u001b[1;33m**\u001b[0m\u001b[0mcheck_y_params\u001b[0m\u001b[1;33m)\u001b[0m\u001b[1;33m\u001b[0m\u001b[1;33m\u001b[0m\u001b[0m\n\u001b[0;32m    432\u001b[0m             \u001b[1;32melse\u001b[0m\u001b[1;33m:\u001b[0m\u001b[1;33m\u001b[0m\u001b[1;33m\u001b[0m\u001b[0m\n\u001b[1;32m--> 433\u001b[1;33m                 \u001b[0mX\u001b[0m\u001b[1;33m,\u001b[0m \u001b[0my\u001b[0m \u001b[1;33m=\u001b[0m \u001b[0mcheck_X_y\u001b[0m\u001b[1;33m(\u001b[0m\u001b[0mX\u001b[0m\u001b[1;33m,\u001b[0m \u001b[0my\u001b[0m\u001b[1;33m,\u001b[0m \u001b[1;33m**\u001b[0m\u001b[0mcheck_params\u001b[0m\u001b[1;33m)\u001b[0m\u001b[1;33m\u001b[0m\u001b[1;33m\u001b[0m\u001b[0m\n\u001b[0m\u001b[0;32m    434\u001b[0m             \u001b[0mout\u001b[0m \u001b[1;33m=\u001b[0m \u001b[0mX\u001b[0m\u001b[1;33m,\u001b[0m \u001b[0my\u001b[0m\u001b[1;33m\u001b[0m\u001b[1;33m\u001b[0m\u001b[0m\n\u001b[0;32m    435\u001b[0m \u001b[1;33m\u001b[0m\u001b[0m\n",
      "\u001b[1;32mD:\\Programming\\MACHINE_LEARNING\\ML_ENV\\lib\\site-packages\\sklearn\\utils\\validation.py\u001b[0m in \u001b[0;36minner_f\u001b[1;34m(*args, **kwargs)\u001b[0m\n\u001b[0;32m     61\u001b[0m             \u001b[0mextra_args\u001b[0m \u001b[1;33m=\u001b[0m \u001b[0mlen\u001b[0m\u001b[1;33m(\u001b[0m\u001b[0margs\u001b[0m\u001b[1;33m)\u001b[0m \u001b[1;33m-\u001b[0m \u001b[0mlen\u001b[0m\u001b[1;33m(\u001b[0m\u001b[0mall_args\u001b[0m\u001b[1;33m)\u001b[0m\u001b[1;33m\u001b[0m\u001b[1;33m\u001b[0m\u001b[0m\n\u001b[0;32m     62\u001b[0m             \u001b[1;32mif\u001b[0m \u001b[0mextra_args\u001b[0m \u001b[1;33m<=\u001b[0m \u001b[1;36m0\u001b[0m\u001b[1;33m:\u001b[0m\u001b[1;33m\u001b[0m\u001b[1;33m\u001b[0m\u001b[0m\n\u001b[1;32m---> 63\u001b[1;33m                 \u001b[1;32mreturn\u001b[0m \u001b[0mf\u001b[0m\u001b[1;33m(\u001b[0m\u001b[1;33m*\u001b[0m\u001b[0margs\u001b[0m\u001b[1;33m,\u001b[0m \u001b[1;33m**\u001b[0m\u001b[0mkwargs\u001b[0m\u001b[1;33m)\u001b[0m\u001b[1;33m\u001b[0m\u001b[1;33m\u001b[0m\u001b[0m\n\u001b[0m\u001b[0;32m     64\u001b[0m \u001b[1;33m\u001b[0m\u001b[0m\n\u001b[0;32m     65\u001b[0m             \u001b[1;31m# extra_args > 0\u001b[0m\u001b[1;33m\u001b[0m\u001b[1;33m\u001b[0m\u001b[1;33m\u001b[0m\u001b[0m\n",
      "\u001b[1;32mD:\\Programming\\MACHINE_LEARNING\\ML_ENV\\lib\\site-packages\\sklearn\\utils\\validation.py\u001b[0m in \u001b[0;36mcheck_X_y\u001b[1;34m(X, y, accept_sparse, accept_large_sparse, dtype, order, copy, force_all_finite, ensure_2d, allow_nd, multi_output, ensure_min_samples, ensure_min_features, y_numeric, estimator)\u001b[0m\n\u001b[0;32m    869\u001b[0m         \u001b[1;32mraise\u001b[0m \u001b[0mValueError\u001b[0m\u001b[1;33m(\u001b[0m\u001b[1;34m\"y cannot be None\"\u001b[0m\u001b[1;33m)\u001b[0m\u001b[1;33m\u001b[0m\u001b[1;33m\u001b[0m\u001b[0m\n\u001b[0;32m    870\u001b[0m \u001b[1;33m\u001b[0m\u001b[0m\n\u001b[1;32m--> 871\u001b[1;33m     X = check_array(X, accept_sparse=accept_sparse,\n\u001b[0m\u001b[0;32m    872\u001b[0m                     \u001b[0maccept_large_sparse\u001b[0m\u001b[1;33m=\u001b[0m\u001b[0maccept_large_sparse\u001b[0m\u001b[1;33m,\u001b[0m\u001b[1;33m\u001b[0m\u001b[1;33m\u001b[0m\u001b[0m\n\u001b[0;32m    873\u001b[0m                     \u001b[0mdtype\u001b[0m\u001b[1;33m=\u001b[0m\u001b[0mdtype\u001b[0m\u001b[1;33m,\u001b[0m \u001b[0morder\u001b[0m\u001b[1;33m=\u001b[0m\u001b[0morder\u001b[0m\u001b[1;33m,\u001b[0m \u001b[0mcopy\u001b[0m\u001b[1;33m=\u001b[0m\u001b[0mcopy\u001b[0m\u001b[1;33m,\u001b[0m\u001b[1;33m\u001b[0m\u001b[1;33m\u001b[0m\u001b[0m\n",
      "\u001b[1;32mD:\\Programming\\MACHINE_LEARNING\\ML_ENV\\lib\\site-packages\\sklearn\\utils\\validation.py\u001b[0m in \u001b[0;36minner_f\u001b[1;34m(*args, **kwargs)\u001b[0m\n\u001b[0;32m     61\u001b[0m             \u001b[0mextra_args\u001b[0m \u001b[1;33m=\u001b[0m \u001b[0mlen\u001b[0m\u001b[1;33m(\u001b[0m\u001b[0margs\u001b[0m\u001b[1;33m)\u001b[0m \u001b[1;33m-\u001b[0m \u001b[0mlen\u001b[0m\u001b[1;33m(\u001b[0m\u001b[0mall_args\u001b[0m\u001b[1;33m)\u001b[0m\u001b[1;33m\u001b[0m\u001b[1;33m\u001b[0m\u001b[0m\n\u001b[0;32m     62\u001b[0m             \u001b[1;32mif\u001b[0m \u001b[0mextra_args\u001b[0m \u001b[1;33m<=\u001b[0m \u001b[1;36m0\u001b[0m\u001b[1;33m:\u001b[0m\u001b[1;33m\u001b[0m\u001b[1;33m\u001b[0m\u001b[0m\n\u001b[1;32m---> 63\u001b[1;33m                 \u001b[1;32mreturn\u001b[0m \u001b[0mf\u001b[0m\u001b[1;33m(\u001b[0m\u001b[1;33m*\u001b[0m\u001b[0margs\u001b[0m\u001b[1;33m,\u001b[0m \u001b[1;33m**\u001b[0m\u001b[0mkwargs\u001b[0m\u001b[1;33m)\u001b[0m\u001b[1;33m\u001b[0m\u001b[1;33m\u001b[0m\u001b[0m\n\u001b[0m\u001b[0;32m     64\u001b[0m \u001b[1;33m\u001b[0m\u001b[0m\n\u001b[0;32m     65\u001b[0m             \u001b[1;31m# extra_args > 0\u001b[0m\u001b[1;33m\u001b[0m\u001b[1;33m\u001b[0m\u001b[1;33m\u001b[0m\u001b[0m\n",
      "\u001b[1;32mD:\\Programming\\MACHINE_LEARNING\\ML_ENV\\lib\\site-packages\\sklearn\\utils\\validation.py\u001b[0m in \u001b[0;36mcheck_array\u001b[1;34m(array, accept_sparse, accept_large_sparse, dtype, order, copy, force_all_finite, ensure_2d, allow_nd, ensure_min_samples, ensure_min_features, estimator)\u001b[0m\n\u001b[0;32m    671\u001b[0m                     \u001b[0marray\u001b[0m \u001b[1;33m=\u001b[0m \u001b[0marray\u001b[0m\u001b[1;33m.\u001b[0m\u001b[0mastype\u001b[0m\u001b[1;33m(\u001b[0m\u001b[0mdtype\u001b[0m\u001b[1;33m,\u001b[0m \u001b[0mcasting\u001b[0m\u001b[1;33m=\u001b[0m\u001b[1;34m\"unsafe\"\u001b[0m\u001b[1;33m,\u001b[0m \u001b[0mcopy\u001b[0m\u001b[1;33m=\u001b[0m\u001b[1;32mFalse\u001b[0m\u001b[1;33m)\u001b[0m\u001b[1;33m\u001b[0m\u001b[1;33m\u001b[0m\u001b[0m\n\u001b[0;32m    672\u001b[0m                 \u001b[1;32melse\u001b[0m\u001b[1;33m:\u001b[0m\u001b[1;33m\u001b[0m\u001b[1;33m\u001b[0m\u001b[0m\n\u001b[1;32m--> 673\u001b[1;33m                     \u001b[0marray\u001b[0m \u001b[1;33m=\u001b[0m \u001b[0mnp\u001b[0m\u001b[1;33m.\u001b[0m\u001b[0masarray\u001b[0m\u001b[1;33m(\u001b[0m\u001b[0marray\u001b[0m\u001b[1;33m,\u001b[0m \u001b[0morder\u001b[0m\u001b[1;33m=\u001b[0m\u001b[0morder\u001b[0m\u001b[1;33m,\u001b[0m \u001b[0mdtype\u001b[0m\u001b[1;33m=\u001b[0m\u001b[0mdtype\u001b[0m\u001b[1;33m)\u001b[0m\u001b[1;33m\u001b[0m\u001b[1;33m\u001b[0m\u001b[0m\n\u001b[0m\u001b[0;32m    674\u001b[0m             \u001b[1;32mexcept\u001b[0m \u001b[0mComplexWarning\u001b[0m \u001b[1;32mas\u001b[0m \u001b[0mcomplex_warning\u001b[0m\u001b[1;33m:\u001b[0m\u001b[1;33m\u001b[0m\u001b[1;33m\u001b[0m\u001b[0m\n\u001b[0;32m    675\u001b[0m                 raise ValueError(\"Complex data not supported\\n\"\n",
      "\u001b[1;32mD:\\Programming\\MACHINE_LEARNING\\ML_ENV\\lib\\site-packages\\numpy\\core\\_asarray.py\u001b[0m in \u001b[0;36masarray\u001b[1;34m(a, dtype, order, like)\u001b[0m\n\u001b[0;32m    100\u001b[0m         \u001b[1;32mreturn\u001b[0m \u001b[0m_asarray_with_like\u001b[0m\u001b[1;33m(\u001b[0m\u001b[0ma\u001b[0m\u001b[1;33m,\u001b[0m \u001b[0mdtype\u001b[0m\u001b[1;33m=\u001b[0m\u001b[0mdtype\u001b[0m\u001b[1;33m,\u001b[0m \u001b[0morder\u001b[0m\u001b[1;33m=\u001b[0m\u001b[0morder\u001b[0m\u001b[1;33m,\u001b[0m \u001b[0mlike\u001b[0m\u001b[1;33m=\u001b[0m\u001b[0mlike\u001b[0m\u001b[1;33m)\u001b[0m\u001b[1;33m\u001b[0m\u001b[1;33m\u001b[0m\u001b[0m\n\u001b[0;32m    101\u001b[0m \u001b[1;33m\u001b[0m\u001b[0m\n\u001b[1;32m--> 102\u001b[1;33m     \u001b[1;32mreturn\u001b[0m \u001b[0marray\u001b[0m\u001b[1;33m(\u001b[0m\u001b[0ma\u001b[0m\u001b[1;33m,\u001b[0m \u001b[0mdtype\u001b[0m\u001b[1;33m,\u001b[0m \u001b[0mcopy\u001b[0m\u001b[1;33m=\u001b[0m\u001b[1;32mFalse\u001b[0m\u001b[1;33m,\u001b[0m \u001b[0morder\u001b[0m\u001b[1;33m=\u001b[0m\u001b[0morder\u001b[0m\u001b[1;33m)\u001b[0m\u001b[1;33m\u001b[0m\u001b[1;33m\u001b[0m\u001b[0m\n\u001b[0m\u001b[0;32m    103\u001b[0m \u001b[1;33m\u001b[0m\u001b[0m\n\u001b[0;32m    104\u001b[0m \u001b[1;33m\u001b[0m\u001b[0m\n",
      "\u001b[1;32mD:\\Programming\\MACHINE_LEARNING\\ML_ENV\\lib\\site-packages\\pandas\\core\\generic.py\u001b[0m in \u001b[0;36m__array__\u001b[1;34m(self, dtype)\u001b[0m\n\u001b[0;32m   1988\u001b[0m \u001b[1;33m\u001b[0m\u001b[0m\n\u001b[0;32m   1989\u001b[0m     \u001b[1;32mdef\u001b[0m \u001b[0m__array__\u001b[0m\u001b[1;33m(\u001b[0m\u001b[0mself\u001b[0m\u001b[1;33m,\u001b[0m \u001b[0mdtype\u001b[0m\u001b[1;33m:\u001b[0m \u001b[0mNpDtype\u001b[0m \u001b[1;33m|\u001b[0m \u001b[1;32mNone\u001b[0m \u001b[1;33m=\u001b[0m \u001b[1;32mNone\u001b[0m\u001b[1;33m)\u001b[0m \u001b[1;33m->\u001b[0m \u001b[0mnp\u001b[0m\u001b[1;33m.\u001b[0m\u001b[0mndarray\u001b[0m\u001b[1;33m:\u001b[0m\u001b[1;33m\u001b[0m\u001b[1;33m\u001b[0m\u001b[0m\n\u001b[1;32m-> 1990\u001b[1;33m         \u001b[1;32mreturn\u001b[0m \u001b[0mnp\u001b[0m\u001b[1;33m.\u001b[0m\u001b[0masarray\u001b[0m\u001b[1;33m(\u001b[0m\u001b[0mself\u001b[0m\u001b[1;33m.\u001b[0m\u001b[0m_values\u001b[0m\u001b[1;33m,\u001b[0m \u001b[0mdtype\u001b[0m\u001b[1;33m=\u001b[0m\u001b[0mdtype\u001b[0m\u001b[1;33m)\u001b[0m\u001b[1;33m\u001b[0m\u001b[1;33m\u001b[0m\u001b[0m\n\u001b[0m\u001b[0;32m   1991\u001b[0m \u001b[1;33m\u001b[0m\u001b[0m\n\u001b[0;32m   1992\u001b[0m     def __array_wrap__(\n",
      "\u001b[1;32mD:\\Programming\\MACHINE_LEARNING\\ML_ENV\\lib\\site-packages\\numpy\\core\\_asarray.py\u001b[0m in \u001b[0;36masarray\u001b[1;34m(a, dtype, order, like)\u001b[0m\n\u001b[0;32m    100\u001b[0m         \u001b[1;32mreturn\u001b[0m \u001b[0m_asarray_with_like\u001b[0m\u001b[1;33m(\u001b[0m\u001b[0ma\u001b[0m\u001b[1;33m,\u001b[0m \u001b[0mdtype\u001b[0m\u001b[1;33m=\u001b[0m\u001b[0mdtype\u001b[0m\u001b[1;33m,\u001b[0m \u001b[0morder\u001b[0m\u001b[1;33m=\u001b[0m\u001b[0morder\u001b[0m\u001b[1;33m,\u001b[0m \u001b[0mlike\u001b[0m\u001b[1;33m=\u001b[0m\u001b[0mlike\u001b[0m\u001b[1;33m)\u001b[0m\u001b[1;33m\u001b[0m\u001b[1;33m\u001b[0m\u001b[0m\n\u001b[0;32m    101\u001b[0m \u001b[1;33m\u001b[0m\u001b[0m\n\u001b[1;32m--> 102\u001b[1;33m     \u001b[1;32mreturn\u001b[0m \u001b[0marray\u001b[0m\u001b[1;33m(\u001b[0m\u001b[0ma\u001b[0m\u001b[1;33m,\u001b[0m \u001b[0mdtype\u001b[0m\u001b[1;33m,\u001b[0m \u001b[0mcopy\u001b[0m\u001b[1;33m=\u001b[0m\u001b[1;32mFalse\u001b[0m\u001b[1;33m,\u001b[0m \u001b[0morder\u001b[0m\u001b[1;33m=\u001b[0m\u001b[0morder\u001b[0m\u001b[1;33m)\u001b[0m\u001b[1;33m\u001b[0m\u001b[1;33m\u001b[0m\u001b[0m\n\u001b[0m\u001b[0;32m    103\u001b[0m \u001b[1;33m\u001b[0m\u001b[0m\n\u001b[0;32m    104\u001b[0m \u001b[1;33m\u001b[0m\u001b[0m\n",
      "\u001b[1;31mValueError\u001b[0m: could not convert string to float: 'Honda'"
     ]
    }
   ],
   "source": [
    "model.fit(X_train,y_train)"
   ]
  },
  {
   "cell_type": "markdown",
   "id": "65521039",
   "metadata": {},
   "source": [
    "Turn to Numerical"
   ]
  },
  {
   "cell_type": "code",
   "execution_count": 16,
   "id": "aa9f92ba",
   "metadata": {},
   "outputs": [
    {
     "data": {
      "text/html": [
       "<div>\n",
       "<style scoped>\n",
       "    .dataframe tbody tr th:only-of-type {\n",
       "        vertical-align: middle;\n",
       "    }\n",
       "\n",
       "    .dataframe tbody tr th {\n",
       "        vertical-align: top;\n",
       "    }\n",
       "\n",
       "    .dataframe thead th {\n",
       "        text-align: right;\n",
       "    }\n",
       "</style>\n",
       "<table border=\"1\" class=\"dataframe\">\n",
       "  <thead>\n",
       "    <tr style=\"text-align: right;\">\n",
       "      <th></th>\n",
       "      <th>Make</th>\n",
       "      <th>Colour</th>\n",
       "      <th>Odometer (KM)</th>\n",
       "      <th>Doors</th>\n",
       "      <th>Price</th>\n",
       "    </tr>\n",
       "  </thead>\n",
       "  <tbody>\n",
       "    <tr>\n",
       "      <th>0</th>\n",
       "      <td>Honda</td>\n",
       "      <td>White</td>\n",
       "      <td>35431</td>\n",
       "      <td>4</td>\n",
       "      <td>15323</td>\n",
       "    </tr>\n",
       "    <tr>\n",
       "      <th>1</th>\n",
       "      <td>BMW</td>\n",
       "      <td>Blue</td>\n",
       "      <td>192714</td>\n",
       "      <td>5</td>\n",
       "      <td>19943</td>\n",
       "    </tr>\n",
       "    <tr>\n",
       "      <th>2</th>\n",
       "      <td>Honda</td>\n",
       "      <td>White</td>\n",
       "      <td>84714</td>\n",
       "      <td>4</td>\n",
       "      <td>28343</td>\n",
       "    </tr>\n",
       "    <tr>\n",
       "      <th>3</th>\n",
       "      <td>Toyota</td>\n",
       "      <td>White</td>\n",
       "      <td>154365</td>\n",
       "      <td>4</td>\n",
       "      <td>13434</td>\n",
       "    </tr>\n",
       "    <tr>\n",
       "      <th>4</th>\n",
       "      <td>Nissan</td>\n",
       "      <td>Blue</td>\n",
       "      <td>181577</td>\n",
       "      <td>3</td>\n",
       "      <td>14043</td>\n",
       "    </tr>\n",
       "  </tbody>\n",
       "</table>\n",
       "</div>"
      ],
      "text/plain": [
       "     Make Colour  Odometer (KM)  Doors  Price\n",
       "0   Honda  White          35431      4  15323\n",
       "1     BMW   Blue         192714      5  19943\n",
       "2   Honda  White          84714      4  28343\n",
       "3  Toyota  White         154365      4  13434\n",
       "4  Nissan   Blue         181577      3  14043"
      ]
     },
     "execution_count": 16,
     "metadata": {},
     "output_type": "execute_result"
    }
   ],
   "source": [
    "car_df=pd.read_csv(\"zero-to-mastery-ml-master/data/car-sales-extended.csv\")\n",
    "car_df.head()"
   ]
  },
  {
   "cell_type": "code",
   "execution_count": 19,
   "id": "53adecba",
   "metadata": {},
   "outputs": [
    {
     "data": {
      "text/plain": [
       "(       Make Colour  Odometer (KM)  Doors\n",
       " 0     Honda  White          35431      4\n",
       " 1       BMW   Blue         192714      5\n",
       " 2     Honda  White          84714      4\n",
       " 3    Toyota  White         154365      4\n",
       " 4    Nissan   Blue         181577      3\n",
       " ..      ...    ...            ...    ...\n",
       " 995  Toyota  Black          35820      4\n",
       " 996  Nissan  White         155144      3\n",
       " 997  Nissan   Blue          66604      4\n",
       " 998   Honda  White         215883      4\n",
       " 999  Toyota   Blue         248360      4\n",
       " \n",
       " [1000 rows x 4 columns],\n",
       " 0      15323\n",
       " 1      19943\n",
       " 2      28343\n",
       " 3      13434\n",
       " 4      14043\n",
       "        ...  \n",
       " 995    32042\n",
       " 996     5716\n",
       " 997    31570\n",
       " 998     4001\n",
       " 999    12732\n",
       " Name: Price, Length: 1000, dtype: int64)"
      ]
     },
     "execution_count": 19,
     "metadata": {},
     "output_type": "execute_result"
    }
   ],
   "source": [
    "X=car_df.drop(\"Price\",axis=1)\n",
    "y=car_df[\"Price\"]\n",
    "X,y"
   ]
  },
  {
   "cell_type": "code",
   "execution_count": 31,
   "id": "2aa8e0c0",
   "metadata": {},
   "outputs": [],
   "source": [
    "X_train,X_test,y_train,y_test=train_test_split(X_transformed,y,test_size=0.3)"
   ]
  },
  {
   "cell_type": "code",
   "execution_count": 32,
   "id": "1c5e1540",
   "metadata": {},
   "outputs": [],
   "source": [
    "from sklearn.preprocessing import OneHotEncoder\n",
    "from sklearn.compose import ColumnTransformer\n",
    "\n",
    "\n",
    "categorical_features = [\"Make\",\"Colour\", \"Doors\"]\n",
    "hot=OneHotEncoder()\n",
    "transformer=ColumnTransformer([(\"hot\",\n",
    "                              hot,\n",
    "                              categorical_features)],\n",
    "                              remainder=\"passthrough\")\n",
    "\n",
    "X_transformed=transformer.fit_transform(X)"
   ]
  },
  {
   "cell_type": "code",
   "execution_count": 33,
   "id": "fe53b74f",
   "metadata": {},
   "outputs": [
    {
     "data": {
      "text/plain": [
       "dtype('float64')"
      ]
     },
     "execution_count": 33,
     "metadata": {},
     "output_type": "execute_result"
    }
   ],
   "source": [
    "X_transformed.dtype"
   ]
  },
  {
   "cell_type": "code",
   "execution_count": 36,
   "id": "191a602b",
   "metadata": {},
   "outputs": [
    {
     "data": {
      "text/plain": [
       "RandomForestRegressor()"
      ]
     },
     "execution_count": 36,
     "metadata": {},
     "output_type": "execute_result"
    }
   ],
   "source": [
    "np.random.seed(42)\n",
    "\n",
    "model.fit(X_train,y_train)"
   ]
  },
  {
   "cell_type": "code",
   "execution_count": 38,
   "id": "99e16af9",
   "metadata": {},
   "outputs": [
    {
     "data": {
      "text/plain": [
       "0.27938106369187177"
      ]
     },
     "execution_count": 38,
     "metadata": {},
     "output_type": "execute_result"
    }
   ],
   "source": [
    "model.score(X_test,y_test)"
   ]
  },
  {
   "cell_type": "markdown",
   "id": "c12e79e5",
   "metadata": {},
   "source": [
    "## Dealing with missing Data\n"
   ]
  },
  {
   "cell_type": "code",
   "execution_count": 39,
   "id": "a4ac6756",
   "metadata": {},
   "outputs": [],
   "source": [
    "df=pd.read_csv(\"zero-to-mastery-ml-master/data/car-sales-extended-missing-data.csv\")"
   ]
  },
  {
   "cell_type": "code",
   "execution_count": 41,
   "id": "92ad62fc",
   "metadata": {},
   "outputs": [
    {
     "data": {
      "text/html": [
       "<div>\n",
       "<style scoped>\n",
       "    .dataframe tbody tr th:only-of-type {\n",
       "        vertical-align: middle;\n",
       "    }\n",
       "\n",
       "    .dataframe tbody tr th {\n",
       "        vertical-align: top;\n",
       "    }\n",
       "\n",
       "    .dataframe thead th {\n",
       "        text-align: right;\n",
       "    }\n",
       "</style>\n",
       "<table border=\"1\" class=\"dataframe\">\n",
       "  <thead>\n",
       "    <tr style=\"text-align: right;\">\n",
       "      <th></th>\n",
       "      <th>Make</th>\n",
       "      <th>Colour</th>\n",
       "      <th>Odometer (KM)</th>\n",
       "      <th>Doors</th>\n",
       "      <th>Price</th>\n",
       "    </tr>\n",
       "  </thead>\n",
       "  <tbody>\n",
       "    <tr>\n",
       "      <th>0</th>\n",
       "      <td>Honda</td>\n",
       "      <td>White</td>\n",
       "      <td>35431.0</td>\n",
       "      <td>4.0</td>\n",
       "      <td>15323.0</td>\n",
       "    </tr>\n",
       "    <tr>\n",
       "      <th>1</th>\n",
       "      <td>BMW</td>\n",
       "      <td>Blue</td>\n",
       "      <td>192714.0</td>\n",
       "      <td>5.0</td>\n",
       "      <td>19943.0</td>\n",
       "    </tr>\n",
       "    <tr>\n",
       "      <th>2</th>\n",
       "      <td>Honda</td>\n",
       "      <td>White</td>\n",
       "      <td>84714.0</td>\n",
       "      <td>4.0</td>\n",
       "      <td>28343.0</td>\n",
       "    </tr>\n",
       "    <tr>\n",
       "      <th>3</th>\n",
       "      <td>Toyota</td>\n",
       "      <td>White</td>\n",
       "      <td>154365.0</td>\n",
       "      <td>4.0</td>\n",
       "      <td>13434.0</td>\n",
       "    </tr>\n",
       "    <tr>\n",
       "      <th>4</th>\n",
       "      <td>Nissan</td>\n",
       "      <td>Blue</td>\n",
       "      <td>181577.0</td>\n",
       "      <td>3.0</td>\n",
       "      <td>14043.0</td>\n",
       "    </tr>\n",
       "  </tbody>\n",
       "</table>\n",
       "</div>"
      ],
      "text/plain": [
       "     Make Colour  Odometer (KM)  Doors    Price\n",
       "0   Honda  White        35431.0    4.0  15323.0\n",
       "1     BMW   Blue       192714.0    5.0  19943.0\n",
       "2   Honda  White        84714.0    4.0  28343.0\n",
       "3  Toyota  White       154365.0    4.0  13434.0\n",
       "4  Nissan   Blue       181577.0    3.0  14043.0"
      ]
     },
     "execution_count": 41,
     "metadata": {},
     "output_type": "execute_result"
    }
   ],
   "source": [
    "df.head()"
   ]
  },
  {
   "cell_type": "code",
   "execution_count": 55,
   "id": "c1c9ad9d",
   "metadata": {},
   "outputs": [
    {
     "data": {
      "text/plain": [
       "Make             0\n",
       "Colour           0\n",
       "Odometer (KM)    0\n",
       "Doors            0\n",
       "Price            0\n",
       "dtype: int64"
      ]
     },
     "execution_count": 55,
     "metadata": {},
     "output_type": "execute_result"
    }
   ],
   "source": [
    "#All missing values \n",
    "df.isna().sum()"
   ]
  },
  {
   "cell_type": "code",
   "execution_count": 54,
   "id": "d53adc73",
   "metadata": {},
   "outputs": [],
   "source": [
    "# Replace missing values in \"Make\" column\n",
    "df[\"Make\"].fillna(\"missing\",inplace=True)\n",
    "\n",
    "#Replace missing values in \"Colour\" column\n",
    "df[\"Colour\"].fillna(\"missing\", inplace= True)\n",
    "\n",
    "#Replace missing values in \"Odometer\" column\n",
    "df[\"Odometer (KM)\"].fillna(df[\"Odometer (KM)\"].mean(),inplace=True)\n",
    "\n",
    "#Replace missing values in \"Doors\" column\n",
    "df[\"Doors\"].fillna(4,inplace=True)\n",
    "\n",
    "#Drop missing values in \"Price\" column\n",
    "df.dropna(inplace=True) "
   ]
  },
  {
   "cell_type": "code",
   "execution_count": 58,
   "id": "68589960",
   "metadata": {},
   "outputs": [],
   "source": [
    "X=df.drop(\"Price\",axis=1)\n",
    "y=df[\"Price\"]"
   ]
  },
  {
   "cell_type": "code",
   "execution_count": 61,
   "id": "b070e2c1",
   "metadata": {},
   "outputs": [],
   "source": [
    "##Turning non-numeric columns in the DataFrame to numbers\n",
    "from sklearn.preprocessing import OneHotEncoder\n",
    "from sklearn.compose import ColumnTransformer\n",
    "\n",
    "cols=[\"Make\",\"Colour\",\"Doors\"]\n",
    "encoder=OneHotEncoder()\n",
    "transformer=ColumnTransformer([(\"one_hot\",\n",
    "                                encoder,\n",
    "                               cols)],\n",
    "                              remainder=\"passthrough\")\n",
    "X_transformed=transformer.fit_transform(X)"
   ]
  },
  {
   "cell_type": "code",
   "execution_count": 62,
   "id": "8dca35a9",
   "metadata": {},
   "outputs": [],
   "source": [
    "from sklearn.model_selection import train_test_split\n",
    "from sklearn.ensemble import RandomForestRegressor\n",
    "\n",
    "model=RandomForestRegressor()\n",
    "\n",
    "X_train,X_test,y_train,y_test=train_test_split(X_transformed,y,train_size=0.8)"
   ]
  },
  {
   "cell_type": "code",
   "execution_count": 63,
   "id": "2d7f1ded",
   "metadata": {},
   "outputs": [
    {
     "data": {
      "text/plain": [
       "RandomForestRegressor()"
      ]
     },
     "execution_count": 63,
     "metadata": {},
     "output_type": "execute_result"
    }
   ],
   "source": [
    "model.fit(X_train,y_train)"
   ]
  },
  {
   "cell_type": "code",
   "execution_count": 64,
   "id": "95c56b1a",
   "metadata": {},
   "outputs": [
    {
     "data": {
      "text/plain": [
       "0.19148158665104875"
      ]
     },
     "execution_count": 64,
     "metadata": {},
     "output_type": "execute_result"
    }
   ],
   "source": [
    "model.score(X_test,y_test)"
   ]
  },
  {
   "cell_type": "markdown",
   "id": "8d05f61b",
   "metadata": {},
   "source": [
    "## Filling Missing Values with SciKit Learn (Imputation)\n"
   ]
  },
  {
   "cell_type": "code",
   "execution_count": 14,
   "id": "f7de9686",
   "metadata": {},
   "outputs": [],
   "source": [
    "import pandas as pd\n",
    "\n",
    "car_data= pd.read_csv(\"zero-to-mastery-ml-master/data/car-sales-extended-missing-data.csv\")"
   ]
  },
  {
   "cell_type": "code",
   "execution_count": 42,
   "id": "786598e4",
   "metadata": {},
   "outputs": [
    {
     "data": {
      "text/plain": [
       "Make             26\n",
       "Colour           33\n",
       "Odometer (KM)    32\n",
       "Doors            35\n",
       "dtype: int64"
      ]
     },
     "execution_count": 42,
     "metadata": {},
     "output_type": "execute_result"
    }
   ],
   "source": [
    "X_train.isna().sum()"
   ]
  },
  {
   "cell_type": "code",
   "execution_count": 38,
   "id": "cfa3a649",
   "metadata": {},
   "outputs": [],
   "source": [
    "#Removing blank price rows\n",
    "car_data.dropna(subset=[\"Price\"],inplace=True)\n",
    "X=car_data.drop(\"Price\",axis=1)\n",
    "y=car_data[\"Price\"]"
   ]
  },
  {
   "cell_type": "code",
   "execution_count": 39,
   "id": "6210f0ad",
   "metadata": {},
   "outputs": [],
   "source": [
    "#Dividing the data into train and test subparts\n",
    "from sklearn.model_selection import train_test_split\n",
    "\n",
    "X_train,X_test,y_train,y_test=train_test_split(X,y,train_size=0.7)"
   ]
  },
  {
   "cell_type": "code",
   "execution_count": 47,
   "id": "66c3028c",
   "metadata": {},
   "outputs": [
    {
     "name": "stdout",
     "output_type": "stream",
     "text": [
      "[ColumnTransformer] ... (1 of 3) Processing cat_imputer, total=   0.0s\n",
      "[ColumnTransformer] ... (2 of 3) Processing num_imputer, total=   0.0s\n",
      "[ColumnTransformer]  (3 of 3) Processing catnum_imputer, total=   0.0s\n",
      "[ColumnTransformer] ... (1 of 3) Processing cat_imputer, total=   0.0s\n",
      "[ColumnTransformer] ... (2 of 3) Processing num_imputer, total=   0.0s\n",
      "[ColumnTransformer]  (3 of 3) Processing catnum_imputer, total=   0.0s\n"
     ]
    }
   ],
   "source": [
    "from sklearn.impute import SimpleImputer\n",
    "from sklearn.compose import ColumnTransformer\n",
    "\n",
    "# Marking the columns to be imputed(filling missing data)\n",
    "cat_col=[\"Make\",\"Colour\"]\n",
    "num_col=[\"Odometer (KM)\"]\n",
    "catnum_col=[\"Doors\"]\n",
    "\n",
    "#Creating imputers for filling missing values with different data type columns\n",
    "cat_imputer=SimpleImputer(strategy=\"constant\",fill_value=\"missing\")\n",
    "num_imputer=SimpleImputer(strategy=\"mean\")\n",
    "catnum_imputer=SimpleImputer(strategy=\"most_frequent\")\n",
    "\n",
    "#Creating the transformer\n",
    "transformer=ColumnTransformer([(\"cat_imputer\",cat_imputer,cat_col),\n",
    "                              (\"num_imputer\",num_imputer,num_col),\n",
    "                              (\"catnum_imputer\",catnum_imputer,catnum_col)],\n",
    "                             verbose=True,\n",
    "                             )\n",
    "\n",
    "# Transformind the data\n",
    "X_train_transformed=transformer.fit_transform(X_train)\n",
    "X_test_transformed=transformer.fit_transform(X_test)\n"
   ]
  },
  {
   "cell_type": "code",
   "execution_count": 53,
   "id": "954c2b62",
   "metadata": {},
   "outputs": [
    {
     "data": {
      "text/plain": [
       "((285, 4), (665, 4))"
      ]
     },
     "execution_count": 53,
     "metadata": {},
     "output_type": "execute_result"
    }
   ],
   "source": [
    "##Creating a new DataFrame from the transformed columns\n",
    "car_sales_filled_train=pd.DataFrame(X_train_transformed,\n",
    "                                   columns=[\"Make\",\"Colour\",\"Odometer (KM)\",\"Doors\"])\n",
    "\n",
    "car_sales_filled_test=pd.DataFrame(X_test_transformed,\n",
    "                                  columns=[\"Make\",\"Colour\",\"Odometer (KM)\",\"Doors\"])\n",
    "\n",
    "car_sales_filled_test.shape,car_sales_filled_train.shape"
   ]
  },
  {
   "cell_type": "code",
   "execution_count": 54,
   "id": "7302aced",
   "metadata": {},
   "outputs": [
    {
     "data": {
      "text/plain": [
       "Make             0\n",
       "Colour           0\n",
       "Odometer (KM)    0\n",
       "Doors            0\n",
       "dtype: int64"
      ]
     },
     "execution_count": 54,
     "metadata": {},
     "output_type": "execute_result"
    }
   ],
   "source": [
    "car_sales_filled_test.isna().sum()"
   ]
  },
  {
   "cell_type": "code",
   "execution_count": 55,
   "id": "53a28c10",
   "metadata": {},
   "outputs": [
    {
     "name": "stdout",
     "output_type": "stream",
     "text": [
      "[ColumnTransformer] ....... (1 of 2) Processing hot_enc, total=   0.0s\n",
      "[ColumnTransformer] ..... (2 of 2) Processing remainder, total=   0.0s\n",
      "[ColumnTransformer] ....... (1 of 2) Processing hot_enc, total=   0.0s\n",
      "[ColumnTransformer] ..... (2 of 2) Processing remainder, total=   0.0s\n"
     ]
    }
   ],
   "source": [
    "#Turning Categories to numericals( Feature Engineering)\n",
    "from sklearn.preprocessing import OneHotEncoder\n",
    "\n",
    "hot_enc=OneHotEncoder()\n",
    "categories=[\"Make\",\"Colour\",\"Doors\"]\n",
    "transfomer_num=ColumnTransformer([(\"hot_enc\",hot_enc,categories)],\n",
    "                                verbose=True,\n",
    "                                remainder=\"passthrough\")\n",
    "\n",
    "X_train_transform_num=transfomer_num.fit_transform(car_sales_filled_train)\n",
    "X_test_transform_num=transfomer_num.fit_transform(car_sales_filled_test)"
   ]
  },
  {
   "cell_type": "code",
   "execution_count": 57,
   "id": "cb23faaf",
   "metadata": {},
   "outputs": [
    {
     "data": {
      "text/plain": [
       "RandomForestRegressor()"
      ]
     },
     "execution_count": 57,
     "metadata": {},
     "output_type": "execute_result"
    }
   ],
   "source": [
    "#Choosing a Model\n",
    "from sklearn.ensemble import RandomForestRegressor\n",
    "\n",
    "model=RandomForestRegressor(n_estimators=100)\n",
    "model.fit(X_train_transform_num,y_train)"
   ]
  },
  {
   "cell_type": "code",
   "execution_count": 58,
   "id": "b9d3d489",
   "metadata": {},
   "outputs": [
    {
     "data": {
      "text/plain": [
       "0.28813072018363073"
      ]
     },
     "execution_count": 58,
     "metadata": {},
     "output_type": "execute_result"
    }
   ],
   "source": [
    "model.score(X_test_transform_num,y_test)"
   ]
  },
  {
   "cell_type": "markdown",
   "id": "2482b5e4",
   "metadata": {},
   "source": [
    "## Choosing a ML Model"
   ]
  },
  {
   "cell_type": "code",
   "execution_count": 13,
   "id": "dbf1fc71",
   "metadata": {},
   "outputs": [],
   "source": [
    "##Loading built-in dataset\n",
    "from sklearn.datasets import load_boston\n",
    "import pandas as pd\n",
    "\n",
    "boston_data=load_boston()\n",
    "\n",
    "boston_df=pd.DataFrame(boston_data[\"data\"],columns=boston_data[\"feature_names\"])\n",
    "boston_df[\"target\"]= pd.Series(data=boston_data[\"target\"])"
   ]
  },
  {
   "cell_type": "code",
   "execution_count": 15,
   "id": "6d6eeab0",
   "metadata": {},
   "outputs": [
    {
     "data": {
      "text/html": [
       "<div>\n",
       "<style scoped>\n",
       "    .dataframe tbody tr th:only-of-type {\n",
       "        vertical-align: middle;\n",
       "    }\n",
       "\n",
       "    .dataframe tbody tr th {\n",
       "        vertical-align: top;\n",
       "    }\n",
       "\n",
       "    .dataframe thead th {\n",
       "        text-align: right;\n",
       "    }\n",
       "</style>\n",
       "<table border=\"1\" class=\"dataframe\">\n",
       "  <thead>\n",
       "    <tr style=\"text-align: right;\">\n",
       "      <th></th>\n",
       "      <th>CRIM</th>\n",
       "      <th>ZN</th>\n",
       "      <th>INDUS</th>\n",
       "      <th>CHAS</th>\n",
       "      <th>NOX</th>\n",
       "      <th>RM</th>\n",
       "      <th>AGE</th>\n",
       "      <th>DIS</th>\n",
       "      <th>RAD</th>\n",
       "      <th>TAX</th>\n",
       "      <th>PTRATIO</th>\n",
       "      <th>B</th>\n",
       "      <th>LSTAT</th>\n",
       "      <th>target</th>\n",
       "    </tr>\n",
       "  </thead>\n",
       "  <tbody>\n",
       "    <tr>\n",
       "      <th>0</th>\n",
       "      <td>0.00632</td>\n",
       "      <td>18.0</td>\n",
       "      <td>2.31</td>\n",
       "      <td>0.0</td>\n",
       "      <td>0.538</td>\n",
       "      <td>6.575</td>\n",
       "      <td>65.2</td>\n",
       "      <td>4.0900</td>\n",
       "      <td>1.0</td>\n",
       "      <td>296.0</td>\n",
       "      <td>15.3</td>\n",
       "      <td>396.90</td>\n",
       "      <td>4.98</td>\n",
       "      <td>24.0</td>\n",
       "    </tr>\n",
       "    <tr>\n",
       "      <th>1</th>\n",
       "      <td>0.02731</td>\n",
       "      <td>0.0</td>\n",
       "      <td>7.07</td>\n",
       "      <td>0.0</td>\n",
       "      <td>0.469</td>\n",
       "      <td>6.421</td>\n",
       "      <td>78.9</td>\n",
       "      <td>4.9671</td>\n",
       "      <td>2.0</td>\n",
       "      <td>242.0</td>\n",
       "      <td>17.8</td>\n",
       "      <td>396.90</td>\n",
       "      <td>9.14</td>\n",
       "      <td>21.6</td>\n",
       "    </tr>\n",
       "    <tr>\n",
       "      <th>2</th>\n",
       "      <td>0.02729</td>\n",
       "      <td>0.0</td>\n",
       "      <td>7.07</td>\n",
       "      <td>0.0</td>\n",
       "      <td>0.469</td>\n",
       "      <td>7.185</td>\n",
       "      <td>61.1</td>\n",
       "      <td>4.9671</td>\n",
       "      <td>2.0</td>\n",
       "      <td>242.0</td>\n",
       "      <td>17.8</td>\n",
       "      <td>392.83</td>\n",
       "      <td>4.03</td>\n",
       "      <td>34.7</td>\n",
       "    </tr>\n",
       "  </tbody>\n",
       "</table>\n",
       "</div>"
      ],
      "text/plain": [
       "      CRIM    ZN  INDUS  CHAS    NOX     RM   AGE     DIS  RAD    TAX  \\\n",
       "0  0.00632  18.0   2.31   0.0  0.538  6.575  65.2  4.0900  1.0  296.0   \n",
       "1  0.02731   0.0   7.07   0.0  0.469  6.421  78.9  4.9671  2.0  242.0   \n",
       "2  0.02729   0.0   7.07   0.0  0.469  7.185  61.1  4.9671  2.0  242.0   \n",
       "\n",
       "   PTRATIO       B  LSTAT  target  \n",
       "0     15.3  396.90   4.98    24.0  \n",
       "1     17.8  396.90   9.14    21.6  \n",
       "2     17.8  392.83   4.03    34.7  "
      ]
     },
     "execution_count": 15,
     "metadata": {},
     "output_type": "execute_result"
    }
   ],
   "source": [
    "boston_df.head()[:3]"
   ]
  },
  {
   "cell_type": "markdown",
   "id": "b2c3f8e0",
   "metadata": {},
   "source": [
    "## Ridge Model"
   ]
  },
  {
   "cell_type": "code",
   "execution_count": 26,
   "id": "3b7f93ec",
   "metadata": {},
   "outputs": [],
   "source": [
    "##Spliting Data\n",
    "from sklearn.model_selection import train_test_split\n",
    "\n",
    "X=boston_df.drop(\"target\",axis=1)\n",
    "y=boston_df[\"target\"]\n",
    "\n",
    "X_train,X_test,y_train,y_test = train_test_split(X,y,test_size=0.2)"
   ]
  },
  {
   "cell_type": "code",
   "execution_count": 31,
   "id": "028071b8",
   "metadata": {},
   "outputs": [],
   "source": [
    "##Choosing the Right Estimator/Model\n",
    "from sklearn.linear_model import Ridge\n",
    "\n",
    "model=Ridge()\n"
   ]
  },
  {
   "cell_type": "code",
   "execution_count": 32,
   "id": "0c23be1a",
   "metadata": {},
   "outputs": [
    {
     "data": {
      "text/plain": [
       "Ridge()"
      ]
     },
     "execution_count": 32,
     "metadata": {},
     "output_type": "execute_result"
    }
   ],
   "source": [
    "model.fit(X_train,y_train)"
   ]
  },
  {
   "cell_type": "code",
   "execution_count": 33,
   "id": "b0b378c1",
   "metadata": {},
   "outputs": [
    {
     "data": {
      "text/plain": [
       "0.7985922583353713"
      ]
     },
     "execution_count": 33,
     "metadata": {},
     "output_type": "execute_result"
    }
   ],
   "source": [
    "model.score(X_test,y_test)"
   ]
  },
  {
   "cell_type": "markdown",
   "id": "6dcd2c9b",
   "metadata": {},
   "source": [
    "## RandomForestRegressor"
   ]
  },
  {
   "cell_type": "code",
   "execution_count": 37,
   "id": "ecb45a88",
   "metadata": {},
   "outputs": [],
   "source": [
    "from sklearn.ensemble import RandomForestRegressor\n",
    "import numpy as np\n",
    "\n",
    "np.random.seed(42)\n",
    "\n",
    "rf=RandomForestRegressor()\n",
    "\n",
    "X=boston_df.drop(\"target\",axis=1)\n",
    "y=boston_df[\"target\"]\n",
    "\n",
    "X_train,X_test,y_train,y_test= train_test_split(X,y,test_size=0.3)\n"
   ]
  },
  {
   "cell_type": "code",
   "execution_count": 39,
   "id": "47f9efba",
   "metadata": {},
   "outputs": [
    {
     "data": {
      "text/plain": [
       "RandomForestRegressor()"
      ]
     },
     "execution_count": 39,
     "metadata": {},
     "output_type": "execute_result"
    }
   ],
   "source": [
    "rf.fit(X_train,y_train)"
   ]
  },
  {
   "cell_type": "code",
   "execution_count": 40,
   "id": "cf6eb3d1",
   "metadata": {},
   "outputs": [
    {
     "data": {
      "text/plain": [
       "0.882899330092286"
      ]
     },
     "execution_count": 40,
     "metadata": {},
     "output_type": "execute_result"
    }
   ],
   "source": [
    "rf.score(X_test,y_test)"
   ]
  },
  {
   "cell_type": "markdown",
   "id": "80da7456",
   "metadata": {},
   "source": [
    "## Classification Machine Learning Model RandomForestClassifier"
   ]
  },
  {
   "cell_type": "code",
   "execution_count": 44,
   "id": "1e1ff565",
   "metadata": {},
   "outputs": [],
   "source": [
    "data=pd.read_csv(\"zero-to-mastery-ml-master/data/heart-disease.csv\")\n",
    "\n",
    "X=data.drop(\"target\",axis=1)\n",
    "y=data[\"target\"]"
   ]
  },
  {
   "cell_type": "code",
   "execution_count": 45,
   "id": "69202e62",
   "metadata": {},
   "outputs": [],
   "source": [
    "from sklearn.ensemble import RandomForestClassifier\n",
    "\n",
    "np.random.seed(42)\n",
    "\n",
    "rf=RandomForestClassifier()\n",
    "\n",
    "X_train,X_test,y_train,y_test=train_test_split(X,y,test_size=0.2)"
   ]
  },
  {
   "cell_type": "code",
   "execution_count": 46,
   "id": "0b8838e3",
   "metadata": {},
   "outputs": [
    {
     "data": {
      "text/plain": [
       "RandomForestClassifier()"
      ]
     },
     "execution_count": 46,
     "metadata": {},
     "output_type": "execute_result"
    }
   ],
   "source": [
    "rf.fit(X_train,y_train)\n"
   ]
  },
  {
   "cell_type": "code",
   "execution_count": 48,
   "id": "beaae19c",
   "metadata": {},
   "outputs": [
    {
     "data": {
      "text/plain": [
       "0.8524590163934426"
      ]
     },
     "execution_count": 48,
     "metadata": {},
     "output_type": "execute_result"
    }
   ],
   "source": [
    "rf.score(X_test,y_test)"
   ]
  },
  {
   "cell_type": "markdown",
   "id": "862a3e3f",
   "metadata": {},
   "source": [
    "## Predicting Data"
   ]
  },
  {
   "cell_type": "code",
   "execution_count": 22,
   "id": "b9d8adb6",
   "metadata": {},
   "outputs": [],
   "source": [
    "import pandas as pd\n",
    "data=pd.read_csv(\"zero-to-mastery-ml-master/data/heart-disease.csv\")"
   ]
  },
  {
   "cell_type": "code",
   "execution_count": 23,
   "id": "be1fdbb9",
   "metadata": {},
   "outputs": [],
   "source": [
    "X=data.drop(\"target\",axis=1)\n",
    "y=data[\"target\"]"
   ]
  },
  {
   "cell_type": "code",
   "execution_count": 24,
   "id": "76e9b936",
   "metadata": {},
   "outputs": [],
   "source": [
    "from sklearn.model_selection import train_test_split\n",
    "\n",
    "X_train,X_test,y_train,y_test=train_test_split(X,y,test_size=0.2)"
   ]
  },
  {
   "cell_type": "code",
   "execution_count": 25,
   "id": "bbd636e3",
   "metadata": {},
   "outputs": [],
   "source": [
    "from sklearn.ensemble import RandomForestClassifier\n",
    "import numpy as np\n",
    "\n",
    "np.random.seed(42)\n",
    "\n",
    "model=RandomForestClassifier()"
   ]
  },
  {
   "cell_type": "code",
   "execution_count": 26,
   "id": "acfaa7ac",
   "metadata": {},
   "outputs": [
    {
     "data": {
      "text/plain": [
       "RandomForestClassifier()"
      ]
     },
     "execution_count": 26,
     "metadata": {},
     "output_type": "execute_result"
    }
   ],
   "source": [
    "model.fit(X_train,y_train)"
   ]
  },
  {
   "cell_type": "code",
   "execution_count": 27,
   "id": "18bb93af",
   "metadata": {},
   "outputs": [
    {
     "data": {
      "text/plain": [
       "0.819672131147541"
      ]
     },
     "execution_count": 27,
     "metadata": {},
     "output_type": "execute_result"
    }
   ],
   "source": [
    "model.score(X_test,y_test)"
   ]
  },
  {
   "cell_type": "markdown",
   "id": "3f00e3d6",
   "metadata": {},
   "source": [
    "#### Making the prediction"
   ]
  },
  {
   "cell_type": "code",
   "execution_count": 35,
   "id": "c1df4e85",
   "metadata": {},
   "outputs": [
    {
     "data": {
      "text/plain": [
       "array([1, 0, 1, 1, 1, 1, 1, 1, 0, 1, 1, 1, 0, 1, 1, 0, 0, 0, 1, 0, 1, 0,\n",
       "       1, 1, 0, 1, 0, 0, 1, 0, 1, 1, 0, 1, 1, 1, 1, 1, 0, 0, 0, 0, 1, 0,\n",
       "       1, 1, 1, 1, 1, 1, 0, 0, 1, 0, 0, 1, 1, 1, 0, 1, 1], dtype=int64)"
      ]
     },
     "execution_count": 35,
     "metadata": {},
     "output_type": "execute_result"
    }
   ],
   "source": [
    "pred=model.predict(X_test)\n",
    "pred"
   ]
  },
  {
   "cell_type": "code",
   "execution_count": 32,
   "id": "fd4bebc4",
   "metadata": {},
   "outputs": [
    {
     "data": {
      "text/plain": [
       "array([1, 1, 1, 1, 1, 0, 1, 1, 0, 1, 0, 1, 0, 1, 1, 0, 0, 0, 1, 1, 1, 0,\n",
       "       1, 0, 0, 0, 0, 0, 1, 1, 1, 1, 1, 1, 1, 1, 1, 1, 0, 0, 0, 0, 1, 0,\n",
       "       1, 1, 1, 1, 1, 1, 0, 1, 0, 0, 0, 1, 1, 1, 0, 1, 0], dtype=int64)"
      ]
     },
     "execution_count": 32,
     "metadata": {},
     "output_type": "execute_result"
    }
   ],
   "source": [
    "np.array(y_test)"
   ]
  },
  {
   "cell_type": "code",
   "execution_count": 34,
   "id": "1a0b902e",
   "metadata": {},
   "outputs": [
    {
     "data": {
      "text/plain": [
       "0.819672131147541"
      ]
     },
     "execution_count": 34,
     "metadata": {},
     "output_type": "execute_result"
    }
   ],
   "source": [
    "np.mean(pred==y_test)"
   ]
  },
  {
   "cell_type": "markdown",
   "id": "61bff66e",
   "metadata": {},
   "source": [
    "## Evaluating a model\n"
   ]
  },
  {
   "cell_type": "code",
   "execution_count": 14,
   "id": "9c53f115",
   "metadata": {},
   "outputs": [],
   "source": [
    "from sklearn.datasets import load_boston\n",
    "import pandas as pd\n",
    "\n",
    "data=load_boston()\n",
    "\n",
    "df=pd.DataFrame(data[\"data\"],columns=data[\"feature_names\"])\n",
    "df[\"target\"]=data[\"target\"]\n",
    "\n",
    "X=df.drop(\"target\",axis=1)\n",
    "y=df[\"target\"]"
   ]
  },
  {
   "cell_type": "code",
   "execution_count": 27,
   "id": "55dfa146",
   "metadata": {},
   "outputs": [],
   "source": [
    "from sklearn.model_selection import train_test_split\n",
    "from sklearn.ensemble import RandomForestRegressor\n",
    "import numpy as np\n",
    "\n",
    "np.random.seed(100)\n",
    "\n",
    "model=RandomForestRegressor(n_estimators=100)\n",
    "\n",
    "X_train,X_test,y_train,y_test=train_test_split(X,y,test_size=0.3)"
   ]
  },
  {
   "cell_type": "code",
   "execution_count": 28,
   "id": "12d07b63",
   "metadata": {},
   "outputs": [
    {
     "data": {
      "text/plain": [
       "RandomForestRegressor()"
      ]
     },
     "execution_count": 28,
     "metadata": {},
     "output_type": "execute_result"
    }
   ],
   "source": [
    "model.fit(X_train,y_train)"
   ]
  },
  {
   "cell_type": "code",
   "execution_count": 29,
   "id": "d0bc7c43",
   "metadata": {},
   "outputs": [
    {
     "data": {
      "text/plain": [
       "0.8144015087333145"
      ]
     },
     "execution_count": 29,
     "metadata": {},
     "output_type": "execute_result"
    }
   ],
   "source": [
    "model.score(X_test,y_test)"
   ]
  },
  {
   "cell_type": "markdown",
   "id": "79fbfd6c",
   "metadata": {},
   "source": [
    "## Using Cross Validation"
   ]
  },
  {
   "cell_type": "code",
   "execution_count": 30,
   "id": "f5577ac1",
   "metadata": {},
   "outputs": [],
   "source": [
    "## cross_validation creates n-numbers of splits on the Data(as opposed to the one split in model.score) which makes it much more trustworthy!\n",
    "from sklearn.model_selection import cross_val_score"
   ]
  },
  {
   "cell_type": "code",
   "execution_count": 35,
   "id": "faeea50f",
   "metadata": {},
   "outputs": [],
   "source": [
    "score=cross_val_score(model,X,y,cv=5)"
   ]
  },
  {
   "cell_type": "code",
   "execution_count": 36,
   "id": "6283214e",
   "metadata": {},
   "outputs": [
    {
     "data": {
      "text/plain": [
       "0.6028319956320183"
      ]
     },
     "execution_count": 36,
     "metadata": {},
     "output_type": "execute_result"
    }
   ],
   "source": [
    "score.mean()"
   ]
  },
  {
   "cell_type": "markdown",
   "id": "1c5150d2",
   "metadata": {},
   "source": [
    "## Classification model evaluation metrics\n",
    "\n",
    "#### 1.Accuracy - the mean of the crossvalidation scores\n",
    "#### 2.Area under ROC curve\n",
    "#### 3.Confusion matrix\n",
    "#### 4.Classification report"
   ]
  },
  {
   "cell_type": "markdown",
   "id": "341f4be6",
   "metadata": {},
   "source": [
    "#### 2. Area under the receiver operating characteristic curve(AUC/ROC)**"
   ]
  },
  {
   "cell_type": "code",
   "execution_count": 56,
   "id": "10746c9b",
   "metadata": {},
   "outputs": [],
   "source": [
    "import pandas as pd\n",
    "import numpy as np\n",
    "import matplotlib.pyplot as plt\n",
    "\n",
    "data=pd.read_csv(\"zero-to-mastery-ml-master/data/heart-disease.csv\")\n",
    "\n",
    "X=data.drop(\"target\",axis=1)\n",
    "y=data['target']"
   ]
  },
  {
   "cell_type": "code",
   "execution_count": 57,
   "id": "fbaa0303",
   "metadata": {},
   "outputs": [],
   "source": [
    "from sklearn.model_selection import train_test_split\n",
    "\n",
    "X_train,X_test,y_train,y_test=train_test_split(X,y,test_size=0.3)"
   ]
  },
  {
   "cell_type": "code",
   "execution_count": 58,
   "id": "a7155ec4",
   "metadata": {},
   "outputs": [],
   "source": [
    "from sklearn.ensemble import RandomForestClassifier\n",
    "\n",
    "model=RandomForestClassifier()"
   ]
  },
  {
   "cell_type": "code",
   "execution_count": 59,
   "id": "cb7f93f1",
   "metadata": {},
   "outputs": [
    {
     "data": {
      "text/plain": [
       "RandomForestClassifier()"
      ]
     },
     "execution_count": 59,
     "metadata": {},
     "output_type": "execute_result"
    }
   ],
   "source": [
    "model.fit(X_train,y_train)"
   ]
  },
  {
   "cell_type": "code",
   "execution_count": 60,
   "id": "d0430e31",
   "metadata": {},
   "outputs": [
    {
     "data": {
      "text/plain": [
       "0.7692307692307693"
      ]
     },
     "execution_count": 60,
     "metadata": {},
     "output_type": "execute_result"
    }
   ],
   "source": [
    "##Using score method\n",
    "\n",
    "model.score(X_test,y_test)"
   ]
  },
  {
   "cell_type": "code",
   "execution_count": 61,
   "id": "30c0b67b",
   "metadata": {},
   "outputs": [],
   "source": [
    "##Getting prediction probabilities\n",
    "##Returns the weighted probabilities of the model for choosing 0 or 1 for each row\n",
    "X_prob=model.predict_proba(X_test)\n",
    "y_score_positive=X_prob[:,1] ## We need the probability only for the positive values(1 - \"Has hearth desease\")\n",
    "##Normal prediction\n",
    "X_pred=model.predict(X_test)"
   ]
  },
  {
   "cell_type": "code",
   "execution_count": 62,
   "id": "9704af3c",
   "metadata": {},
   "outputs": [],
   "source": [
    "## Using Roc surve\n",
    "from sklearn.metrics import roc_curve\n",
    "##\n",
    "curve=roc_curve(y_true=y_test,y_score=y_score_positive)\n",
    "##\n",
    "curve_normal=roc_curve(y_true=y_test,y_score=X_pred)"
   ]
  },
  {
   "cell_type": "code",
   "execution_count": 63,
   "id": "5346ac31",
   "metadata": {},
   "outputs": [],
   "source": [
    "## funtion returns True pos rate, False pos rate and Thresholds\n",
    "fpr,tpr,threshold=curve\n",
    "##\n",
    "fpr_n,tpr_n,threshold_n=curve_normal"
   ]
  },
  {
   "cell_type": "code",
   "execution_count": 64,
   "id": "253fb5a8",
   "metadata": {},
   "outputs": [
    {
     "data": {
      "text/plain": [
       "<matplotlib.collections.LineCollection at 0x16fd56a0b80>"
      ]
     },
     "execution_count": 64,
     "metadata": {},
     "output_type": "execute_result"
    },
    {
     "data": {
      "image/png": "[encoded data removed]",
      "text/plain": [
       "<Figure size 936x288 with 2 Axes>"
      ]
     },
     "metadata": {},
     "output_type": "display_data"
    }
   ],
   "source": [
    "## Ploting result with probability predictions\n",
    "\n",
    "fig,(ax1,ax2)=plt.subplots(nrows=1,ncols=2,figsize=(13,4))\n",
    "\n",
    "ax1.set_ylabel(\"True Positive Rate\")\n",
    "ax1.set_xlabel(\"False Positive Rate\")\n",
    "ax1.set_title('ROC CURVE')\n",
    "\n",
    "ax1.plot(fpr,tpr)\n",
    "ax1.plot([0,1],[0,1],linestyle=\"dashed\",color=\"blue\")\n",
    "ax1.hlines(threshold.mean(),xmin=0,xmax=1.1,colors=\"orange\",linestyle=\"dashed\")"
   ]
  },
  {
   "cell_type": "code",
   "execution_count": 65,
   "id": "7df1393d",
   "metadata": {},
   "outputs": [
    {
     "data": {
      "text/plain": [
       "<matplotlib.collections.LineCollection at 0x16fd6773700>"
      ]
     },
     "execution_count": 65,
     "metadata": {},
     "output_type": "execute_result"
    },
    {
     "data": {
      "image/png": "[encoded data removed]",
      "text/plain": [
       "<Figure size 936x288 with 2 Axes>"
      ]
     },
     "metadata": {},
     "output_type": "display_data"
    }
   ],
   "source": [
    "## Ploting result with normal Prediction\n",
    "\n",
    "fig,(ax1,ax2)=plt.subplots(nrows=1,ncols=2,figsize=(13,4))\n",
    "\n",
    "ax2.set_ylabel(\"True Positive Rate\")\n",
    "ax2.set_xlabel(\"False Positive Rate\")\n",
    "ax2.set_title('ROC CURVE')\n",
    "\n",
    "ax2.plot(fpr_n,tpr_n)\n",
    "ax2.plot([0,1],[0,1],linestyle=\"dashed\",color=\"blue\")\n",
    "ax2.hlines(threshold.mean(),xmin=0,xmax=1.1,colors=\"orange\",linestyle=\"dashed\")"
   ]
  },
  {
   "cell_type": "code",
   "execution_count": 66,
   "id": "5215d359",
   "metadata": {},
   "outputs": [
    {
     "data": {
      "text/plain": [
       "array([0.  , 0.82, 1.  ])"
      ]
     },
     "execution_count": 66,
     "metadata": {},
     "output_type": "execute_result"
    }
   ],
   "source": [
    "tpr_n"
   ]
  },
  {
   "cell_type": "markdown",
   "id": "c3fdd39a",
   "metadata": {},
   "source": [
    "## 3. Confusion matrix"
   ]
  },
  {
   "cell_type": "code",
   "execution_count": 67,
   "id": "964cc466",
   "metadata": {},
   "outputs": [],
   "source": [
    "from sklearn.metrics import confusion_matrix\n",
    "\n",
    "matrix=confusion_matrix(y_test,X_pred)"
   ]
  },
  {
   "cell_type": "code",
   "execution_count": 68,
   "id": "e5b53b36",
   "metadata": {},
   "outputs": [
    {
     "data": {
      "text/plain": [
       "array([[29, 12],\n",
       "       [ 9, 41]], dtype=int64)"
      ]
     },
     "execution_count": 68,
     "metadata": {},
     "output_type": "execute_result"
    }
   ],
   "source": [
    "matrix"
   ]
  },
  {
   "cell_type": "code",
   "execution_count": 69,
   "id": "3133db1c",
   "metadata": {},
   "outputs": [
    {
     "data": {
      "text/plain": [
       "<AxesSubplot:>"
      ]
     },
     "execution_count": 69,
     "metadata": {},
     "output_type": "execute_result"
    },
    {
     "data": {
      "image/png": "[encoded data removed]",
      "text/plain": [
       "<Figure size 432x288 with 1 Axes>"
      ]
     },
     "metadata": {},
     "output_type": "display_data"
    }
   ],
   "source": [
    "import seaborn as sns\n",
    "\n",
    "sns.set(font_scale=1.5)\n",
    "\n",
    "sns.heatmap(matrix,annot=True,cbar=False)"
   ]
  },
  {
   "cell_type": "markdown",
   "id": "43574142",
   "metadata": {},
   "source": [
    "## Classification report"
   ]
  },
  {
   "cell_type": "code",
   "execution_count": 72,
   "id": "981bc031",
   "metadata": {},
   "outputs": [
    {
     "name": "stdout",
     "output_type": "stream",
     "text": [
      "              precision    recall  f1-score   support\n",
      "\n",
      "           0       0.76      0.71      0.73        41\n",
      "           1       0.77      0.82      0.80        50\n",
      "\n",
      "    accuracy                           0.77        91\n",
      "   macro avg       0.77      0.76      0.77        91\n",
      "weighted avg       0.77      0.77      0.77        91\n",
      "\n"
     ]
    }
   ],
   "source": [
    "from sklearn.metrics import classification_report\n",
    "\n",
    "print(classification_report(y_test,X_pred))"
   ]
  },
  {
   "cell_type": "markdown",
   "id": "0e68e528",
   "metadata": {},
   "source": [
    "To summarize classification metrics:\n",
    "\n",
    "-Accuracy is a good measure to start with if all classes are balanced (e.g. same amount of samples which are labelled with 0 or 1).\n",
    "-Precision and recall become more important when classes are imbalanced.\n",
    "-If false positive predictions are worse than false negatives, aim for higher precision.\n",
    "-If false negative predictions are worse than false positives, aim for higher recall.\n",
    "-F1-score is a combination of precision and recall."
   ]
  },
  {
   "cell_type": "markdown",
   "id": "d7c503e4",
   "metadata": {},
   "source": [
    "# Regression model metrics"
   ]
  },
  {
   "cell_type": "markdown",
   "id": "355f739b",
   "metadata": {},
   "source": [
    "#### 1.R^2 (pronounced r-squared) or coefficient of determination."
   ]
  },
  {
   "cell_type": "markdown",
   "id": "8d8b3161",
   "metadata": {},
   "source": [
    "#### 2. Mean absolute error (MAE)"
   ]
  },
  {
   "cell_type": "markdown",
   "id": "039227d7",
   "metadata": {},
   "source": [
    "#### 3. Mean squared error (MSE)"
   ]
  },
  {
   "cell_type": "markdown",
   "id": "d6d6989c",
   "metadata": {},
   "source": [
    "##  R^2"
   ]
  },
  {
   "cell_type": "code",
   "execution_count": 97,
   "id": "967b4b19",
   "metadata": {},
   "outputs": [],
   "source": [
    "from sklearn.model_selection import train_test_split\n",
    "from sklearn.ensemble import RandomForestRegressor\n",
    "from sklearn.datasets import load_boston\n",
    "import pandas as pd\n",
    "import numpy as np\n",
    "import matplotlib.pyplot as plt"
   ]
  },
  {
   "cell_type": "code",
   "execution_count": 86,
   "id": "4b540ca8",
   "metadata": {},
   "outputs": [],
   "source": [
    "df=pd.DataFrame(load_boston()[\"data\"],columns=load_boston()[\"feature_names\"])\n",
    "\n",
    "X=df\n",
    "y=load_boston()[\"target\"]"
   ]
  },
  {
   "cell_type": "code",
   "execution_count": 88,
   "id": "d72969f6",
   "metadata": {},
   "outputs": [],
   "source": [
    "X_train,X_test,y_train,y_test=train_test_split(X,y,test_size=0.2)"
   ]
  },
  {
   "cell_type": "code",
   "execution_count": 98,
   "id": "fda688c4",
   "metadata": {},
   "outputs": [
    {
     "data": {
      "text/html": [
       "<div>\n",
       "<style scoped>\n",
       "    .dataframe tbody tr th:only-of-type {\n",
       "        vertical-align: middle;\n",
       "    }\n",
       "\n",
       "    .dataframe tbody tr th {\n",
       "        vertical-align: top;\n",
       "    }\n",
       "\n",
       "    .dataframe thead th {\n",
       "        text-align: right;\n",
       "    }\n",
       "</style>\n",
       "<table border=\"1\" class=\"dataframe\">\n",
       "  <thead>\n",
       "    <tr style=\"text-align: right;\">\n",
       "      <th></th>\n",
       "      <th>CRIM</th>\n",
       "      <th>ZN</th>\n",
       "      <th>INDUS</th>\n",
       "      <th>CHAS</th>\n",
       "      <th>NOX</th>\n",
       "      <th>RM</th>\n",
       "      <th>AGE</th>\n",
       "      <th>DIS</th>\n",
       "      <th>RAD</th>\n",
       "      <th>TAX</th>\n",
       "      <th>PTRATIO</th>\n",
       "      <th>B</th>\n",
       "      <th>LSTAT</th>\n",
       "    </tr>\n",
       "  </thead>\n",
       "  <tbody>\n",
       "    <tr>\n",
       "      <th>401</th>\n",
       "      <td>14.23620</td>\n",
       "      <td>0.0</td>\n",
       "      <td>18.10</td>\n",
       "      <td>0.0</td>\n",
       "      <td>0.693</td>\n",
       "      <td>6.343</td>\n",
       "      <td>100.0</td>\n",
       "      <td>1.5741</td>\n",
       "      <td>24.0</td>\n",
       "      <td>666.0</td>\n",
       "      <td>20.2</td>\n",
       "      <td>396.90</td>\n",
       "      <td>20.32</td>\n",
       "    </tr>\n",
       "    <tr>\n",
       "      <th>4</th>\n",
       "      <td>0.06905</td>\n",
       "      <td>0.0</td>\n",
       "      <td>2.18</td>\n",
       "      <td>0.0</td>\n",
       "      <td>0.458</td>\n",
       "      <td>7.147</td>\n",
       "      <td>54.2</td>\n",
       "      <td>6.0622</td>\n",
       "      <td>3.0</td>\n",
       "      <td>222.0</td>\n",
       "      <td>18.7</td>\n",
       "      <td>396.90</td>\n",
       "      <td>5.33</td>\n",
       "    </tr>\n",
       "    <tr>\n",
       "      <th>180</th>\n",
       "      <td>0.06588</td>\n",
       "      <td>0.0</td>\n",
       "      <td>2.46</td>\n",
       "      <td>0.0</td>\n",
       "      <td>0.488</td>\n",
       "      <td>7.765</td>\n",
       "      <td>83.3</td>\n",
       "      <td>2.7410</td>\n",
       "      <td>3.0</td>\n",
       "      <td>193.0</td>\n",
       "      <td>17.8</td>\n",
       "      <td>395.56</td>\n",
       "      <td>7.56</td>\n",
       "    </tr>\n",
       "    <tr>\n",
       "      <th>472</th>\n",
       "      <td>3.56868</td>\n",
       "      <td>0.0</td>\n",
       "      <td>18.10</td>\n",
       "      <td>0.0</td>\n",
       "      <td>0.580</td>\n",
       "      <td>6.437</td>\n",
       "      <td>75.0</td>\n",
       "      <td>2.8965</td>\n",
       "      <td>24.0</td>\n",
       "      <td>666.0</td>\n",
       "      <td>20.2</td>\n",
       "      <td>393.37</td>\n",
       "      <td>14.36</td>\n",
       "    </tr>\n",
       "    <tr>\n",
       "      <th>420</th>\n",
       "      <td>11.08740</td>\n",
       "      <td>0.0</td>\n",
       "      <td>18.10</td>\n",
       "      <td>0.0</td>\n",
       "      <td>0.718</td>\n",
       "      <td>6.411</td>\n",
       "      <td>100.0</td>\n",
       "      <td>1.8589</td>\n",
       "      <td>24.0</td>\n",
       "      <td>666.0</td>\n",
       "      <td>20.2</td>\n",
       "      <td>318.75</td>\n",
       "      <td>15.02</td>\n",
       "    </tr>\n",
       "  </tbody>\n",
       "</table>\n",
       "</div>"
      ],
      "text/plain": [
       "         CRIM   ZN  INDUS  CHAS    NOX     RM    AGE     DIS   RAD    TAX  \\\n",
       "401  14.23620  0.0  18.10   0.0  0.693  6.343  100.0  1.5741  24.0  666.0   \n",
       "4     0.06905  0.0   2.18   0.0  0.458  7.147   54.2  6.0622   3.0  222.0   \n",
       "180   0.06588  0.0   2.46   0.0  0.488  7.765   83.3  2.7410   3.0  193.0   \n",
       "472   3.56868  0.0  18.10   0.0  0.580  6.437   75.0  2.8965  24.0  666.0   \n",
       "420  11.08740  0.0  18.10   0.0  0.718  6.411  100.0  1.8589  24.0  666.0   \n",
       "\n",
       "     PTRATIO       B  LSTAT  \n",
       "401     20.2  396.90  20.32  \n",
       "4       18.7  396.90   5.33  \n",
       "180     17.8  395.56   7.56  \n",
       "472     20.2  393.37  14.36  \n",
       "420     20.2  318.75  15.02  "
      ]
     },
     "execution_count": 98,
     "metadata": {},
     "output_type": "execute_result"
    }
   ],
   "source": [
    "X_test[:5]"
   ]
  },
  {
   "cell_type": "code",
   "execution_count": 89,
   "id": "ee86baf8",
   "metadata": {},
   "outputs": [
    {
     "data": {
      "text/plain": [
       "RandomForestRegressor()"
      ]
     },
     "execution_count": 89,
     "metadata": {},
     "output_type": "execute_result"
    }
   ],
   "source": [
    "model=RandomForestRegressor()\n",
    "model.fit(X_train,y_train)"
   ]
  },
  {
   "cell_type": "code",
   "execution_count": 91,
   "id": "1bbff914",
   "metadata": {},
   "outputs": [
    {
     "data": {
      "text/plain": [
       "0.8233349105522023"
      ]
     },
     "execution_count": 91,
     "metadata": {},
     "output_type": "execute_result"
    }
   ],
   "source": [
    "model.score(X_test,y_test)"
   ]
  },
  {
   "cell_type": "code",
   "execution_count": 94,
   "id": "7bd34309",
   "metadata": {},
   "outputs": [],
   "source": [
    "y_pred=model.predict(X_test)"
   ]
  },
  {
   "cell_type": "code",
   "execution_count": 96,
   "id": "22c94c10",
   "metadata": {},
   "outputs": [
    {
     "data": {
      "text/plain": [
       "0.8233349105522023"
      ]
     },
     "execution_count": 96,
     "metadata": {},
     "output_type": "execute_result"
    }
   ],
   "source": [
    "from sklearn.metrics import r2_score\n",
    "\n",
    "r2_score(y_test,y_pred)"
   ]
  },
  {
   "cell_type": "markdown",
   "id": "619783eb",
   "metadata": {},
   "source": [
    "## Mean absolue error (MAE)"
   ]
  },
  {
   "cell_type": "markdown",
   "id": "aaa320be",
   "metadata": {},
   "source": [
    "MAE is the average of the aboslute differences between predictions and actual values. It gives you an idea of how wrong your models predictions are."
   ]
  },
  {
   "cell_type": "code",
   "execution_count": 106,
   "id": "c64aea4a",
   "metadata": {},
   "outputs": [
    {
     "data": {
      "text/plain": [
       "2.38819607843137"
      ]
     },
     "execution_count": 106,
     "metadata": {},
     "output_type": "execute_result"
    }
   ],
   "source": [
    "from sklearn.metrics import mean_absolute_error\n",
    "\n",
    "mea=mean_absolute_error(y_test,y_pred)\n",
    "mea"
   ]
  },
  {
   "cell_type": "markdown",
   "id": "835743c8",
   "metadata": {},
   "source": [
    "## Using Cross-validation with the different metrics"
   ]
  },
  {
   "cell_type": "markdown",
   "id": "90818063",
   "metadata": {},
   "source": [
    "### Classification models"
   ]
  },
  {
   "cell_type": "code",
   "execution_count": 1,
   "id": "bbf14ab3",
   "metadata": {},
   "outputs": [],
   "source": [
    "import pandas as pd\n",
    "import numpy as np\n",
    "import matplotlib.pyplot as plt\n",
    "\n",
    "data=pd.read_csv(\"zero-to-mastery-ml-master/data/heart-disease.csv\")\n",
    "\n",
    "X=data.drop(\"target\",axis=1)\n",
    "y=data['target']"
   ]
  },
  {
   "cell_type": "code",
   "execution_count": 16,
   "id": "7c6a5b87",
   "metadata": {},
   "outputs": [
    {
     "data": {
      "text/plain": [
       "{'fit_time': array([0.22085857, 0.21084595, 0.27272987, 0.22437716, 0.20405054]),\n",
       " 'score_time': array([0.01914668, 0.01599336, 0.01843309, 0.01517439, 0.0130434 ]),\n",
       " 'test_score': array([0.81967213, 0.90163934, 0.83606557, 0.78333333, 0.78333333])}"
      ]
     },
     "execution_count": 16,
     "metadata": {},
     "output_type": "execute_result"
    }
   ],
   "source": [
    "from sklearn.model_selection import cross_validate\n",
    "from sklearn.ensemble import RandomForestClassifier\n",
    "\n",
    "np.random.seed(42)\n",
    "\n",
    "model=RandomForestClassifier()\n",
    "\n",
    "cross_validate(model,X,y,scoring=None)"
   ]
  },
  {
   "cell_type": "code",
   "execution_count": 15,
   "id": "834f8f04",
   "metadata": {},
   "outputs": [
    {
     "data": {
      "text/plain": [
       "{'fit_time': array([0.22821927, 0.24443817, 0.26752496, 0.2215426 , 0.25838017]),\n",
       " 'score_time': array([0.01771235, 0.01832366, 0.03148818, 0.03462338, 0.01699924]),\n",
       " 'test_score': array([0.81967213, 0.90163934, 0.83606557, 0.78333333, 0.78333333])}"
      ]
     },
     "execution_count": 15,
     "metadata": {},
     "output_type": "execute_result"
    }
   ],
   "source": [
    "np.random.seed(42)\n",
    "\n",
    "cross_validate(model,X,y,scoring=\"accuracy\")"
   ]
  },
  {
   "cell_type": "code",
   "execution_count": 17,
   "id": "87d4938d",
   "metadata": {},
   "outputs": [
    {
     "data": {
      "text/plain": [
       "{'fit_time': array([0.22326589, 0.26496959, 0.33703327, 0.2625649 , 0.23795986]),\n",
       " 'score_time': array([0.02202296, 0.01808763, 0.01803374, 0.10031962, 0.02736831]),\n",
       " 'test_score': array([0.76315789, 0.90322581, 0.83870968, 0.79411765, 0.74358974])}"
      ]
     },
     "execution_count": 17,
     "metadata": {},
     "output_type": "execute_result"
    }
   ],
   "source": [
    "cross_validate(model,X,y,scoring=\"precision\")"
   ]
  },
  {
   "cell_type": "code",
   "execution_count": 21,
   "id": "7308ae6e",
   "metadata": {},
   "outputs": [
    {
     "data": {
      "text/plain": [
       "{'fit_time': array([0.23203278, 0.27422023, 0.24098849, 0.23478198, 0.20741606]),\n",
       " 'score_time': array([0.0229373 , 0.02393627, 0.02192998, 0.01894903, 0.01899838]),\n",
       " 'test_score': array([0.90909091, 0.87878788, 0.78787879, 0.78787879, 0.84848485])}"
      ]
     },
     "execution_count": 21,
     "metadata": {},
     "output_type": "execute_result"
    }
   ],
   "source": [
    "cross_validate(model,X,y,cv=5,scoring=\"recall\")"
   ]
  },
  {
   "cell_type": "code",
   "execution_count": 20,
   "id": "e057bed7",
   "metadata": {},
   "outputs": [
    {
     "data": {
      "text/plain": [
       "{'fit_time': array([0.22700381, 0.24063015, 0.23265386, 0.23057818, 0.26674509,\n",
       "        0.22235394]),\n",
       " 'score_time': array([0.02041149, 0.01994944, 0.02094364, 0.02406168, 0.02102637,\n",
       "        0.01994872]),\n",
       " 'test_score': array([0.89655172, 0.87719298, 0.91525424, 0.82352941, 0.84745763,\n",
       "        0.79310345])}"
      ]
     },
     "execution_count": 20,
     "metadata": {},
     "output_type": "execute_result"
    }
   ],
   "source": [
    "cross_validate(model,X,y,cv=6,scoring=\"f1\")"
   ]
  },
  {
   "cell_type": "markdown",
   "id": "98963ad3",
   "metadata": {},
   "source": [
    "## RECAP on Model Evaluations"
   ]
  },
  {
   "cell_type": "markdown",
   "id": "f078507f",
   "metadata": {},
   "source": [
    "### 3 Ways"
   ]
  },
  {
   "cell_type": "markdown",
   "id": "7ed1994b",
   "metadata": {},
   "source": [
    "#### 1. Using the model's score method"
   ]
  },
  {
   "cell_type": "markdown",
   "id": "86642375",
   "metadata": {},
   "source": [
    "#### 2. Using Metric functions\n",
    "\n",
    "- first create the model\n",
    "- fit the data\n",
    "- and put the result and test data into the function\n",
    "- function returns results for ( accuracy,precision,recall,f1,r2,mae et.)\n",
    "- examples: r2_score,accuracy_score,recall_score tec...\n"
   ]
  },
  {
   "cell_type": "markdown",
   "id": "c9b1a733",
   "metadata": {},
   "source": [
    "#### 3. Using cross validation\n",
    "- here we directly put the model,data and scoring type(precision,recall,r2 etc..) as parameters\n",
    "- the function does all the fitting and calculations and gives back the result"
   ]
  },
  {
   "cell_type": "markdown",
   "id": "6df75196",
   "metadata": {},
   "source": [
    "# Tuning Hyperparameters"
   ]
  },
  {
   "cell_type": "markdown",
   "id": "4ed57db5",
   "metadata": {},
   "source": [
    "## 1. Manually"
   ]
  },
  {
   "cell_type": "code",
   "execution_count": 40,
   "id": "a39c5a72",
   "metadata": {},
   "outputs": [],
   "source": [
    "import pandas as pd\n",
    "import numpy as np\n",
    "\n",
    "data=pd.read_csv(\"zero-to-mastery-ml-master/data/heart-disease.csv\")\n",
    "\n",
    "##shuffle DataFrame\n",
    "\n",
    "data=data.sample(frac=1)"
   ]
  },
  {
   "cell_type": "code",
   "execution_count": 41,
   "id": "a1d247ec",
   "metadata": {},
   "outputs": [],
   "source": [
    "X=data.drop(\"target\",axis=1)\n",
    "y=data[\"target\"]"
   ]
  },
  {
   "cell_type": "code",
   "execution_count": 42,
   "id": "6e7f47d1",
   "metadata": {},
   "outputs": [],
   "source": [
    "### Creating a func to compare results of models\n",
    "from sklearn.metrics import accuracy_score, precision_score, recall_score, f1_score\n",
    "\n",
    "def check_model(y_true,y_pred):\n",
    "    \n",
    "    accuracy=accuracy_score(y_true,y_pred)\n",
    "    precision=precision_score(y_true,y_pred)\n",
    "    recall=recall_score(y_true,y_pred)\n",
    "    f1=f1_score(y_true,y_pred)\n",
    "    print(f\"Acc score: {round(accuracy*100,2)}%\")\n",
    "    print(f\"Precision score: {round(precision,2)}\")\n",
    "    print(f\"Recall score: {round(recall,2)}\")\n",
    "    print(f\"F1 score: {round(f1,2)}\")"
   ]
  },
  {
   "cell_type": "code",
   "execution_count": 43,
   "id": "da690ece",
   "metadata": {},
   "outputs": [],
   "source": [
    "from sklearn.ensemble import RandomForestClassifier\n",
    "\n",
    "model_1=RandomForestClassifier()"
   ]
  },
  {
   "cell_type": "code",
   "execution_count": 44,
   "id": "1a16f108",
   "metadata": {},
   "outputs": [],
   "source": [
    "## Manually spliting the data into train(70), valid(15) and test(15) \n",
    "np.random.seed(42)\n",
    "\n",
    "train_data = int(0.70 * len(X))\n",
    "valid_data= int(0.15 * len(X))\n",
    "\n",
    "X_train, y_train = X[:train_data], y[:train_data]\n",
    "X_valid, y_valid = X[train_data:(train_data+valid_data)], y[train_data:(train_data+valid_data)]\n",
    "X_test, y_test = X[(train_data+valid_data):], y[(train_data+valid_data):]"
   ]
  },
  {
   "cell_type": "code",
   "execution_count": 45,
   "id": "87b0236b",
   "metadata": {},
   "outputs": [
    {
     "data": {
      "text/plain": [
       "0.8666666666666667"
      ]
     },
     "execution_count": 45,
     "metadata": {},
     "output_type": "execute_result"
    }
   ],
   "source": [
    "model_1.fit(X_train,y_train)\n",
    "model_1.score(X_valid,y_valid)"
   ]
  },
  {
   "cell_type": "code",
   "execution_count": 46,
   "id": "514376e4",
   "metadata": {},
   "outputs": [],
   "source": [
    "y_pred=model_1.predict(X_valid)"
   ]
  },
  {
   "cell_type": "code",
   "execution_count": 47,
   "id": "f5697803",
   "metadata": {},
   "outputs": [
    {
     "name": "stdout",
     "output_type": "stream",
     "text": [
      "Acc score: 86.67%\n",
      "Precision score: 0.81\n",
      "Recall score: 0.95\n",
      "F1 score: 0.88\n"
     ]
    }
   ],
   "source": [
    "check_model(y_true=y_valid,y_pred=y_pred)"
   ]
  },
  {
   "cell_type": "code",
   "execution_count": 18,
   "id": "1c198d7b",
   "metadata": {},
   "outputs": [],
   "source": [
    "## trying different hyperparameters\n",
    "np.random.seed(42)\n",
    "\n",
    "model_2 = RandomForestClassifier(n_estimators=100, min_samples_leaf = 5)\n",
    "model_2.fit(X_train,y_train)\n",
    "y_pred = model_2.predict(X_valid)"
   ]
  },
  {
   "cell_type": "code",
   "execution_count": 19,
   "id": "c6fb4bda",
   "metadata": {},
   "outputs": [
    {
     "name": "stdout",
     "output_type": "stream",
     "text": [
      "Acc score: 82.22%\n",
      "Precision score: 0.86\n",
      "Recall score: 0.79\n",
      "F1 score: 0.83\n"
     ]
    }
   ],
   "source": [
    "check_model(y_valid,y_pred)"
   ]
  },
  {
   "cell_type": "markdown",
   "id": "3fc91e48",
   "metadata": {},
   "source": [
    "## 2. Using Automated Hyperparameter testing with RandomizeSearchCV"
   ]
  },
  {
   "cell_type": "code",
   "execution_count": 20,
   "id": "d231d753",
   "metadata": {},
   "outputs": [],
   "source": [
    "import pandas as pd\n",
    "import numpy as np\n",
    "\n",
    "data=pd.read_csv(\"zero-to-mastery-ml-master/data/heart-disease.csv\")\n",
    "\n",
    "##shuffle DataFrame\n",
    "\n",
    "data=data.sample(frac=1)"
   ]
  },
  {
   "cell_type": "code",
   "execution_count": 21,
   "id": "c8bf0167",
   "metadata": {},
   "outputs": [],
   "source": [
    "from sklearn.model_selection import train_test_split\n",
    "\n",
    "X=data.drop(\"target\",axis=1)\n",
    "y=data[\"target\"]\n",
    "\n",
    "## Here we don't need to split into validation and test data, because we are using the RandomizedSearchCV\n",
    "\n",
    "X_train,X_test,y_train,y_test=train_test_split(X,y,test_size=0.3)"
   ]
  },
  {
   "cell_type": "code",
   "execution_count": 22,
   "id": "899a3f62",
   "metadata": {},
   "outputs": [],
   "source": [
    "from sklearn.model_selection import RandomizedSearchCV\n",
    "from sklearn.ensemble import RandomForestClassifier\n",
    "\n",
    "model= RandomForestClassifier()\n",
    "\n",
    "params = {\"n_estimators\":[10,100,200,500,1000],\n",
    "         \"max_depth\":[5,10,20,30,50],\n",
    "          \"min_samples_leaf\":[3,6,12],\n",
    "          \"max_features\":[\"auto\",\"sqrt\"],\n",
    "          \"min_samples_split\":[5,10,20]\n",
    "         }\n",
    "\n",
    "clf=RandomizedSearchCV(estimator=model,\n",
    "                      param_distributions= params,\n",
    "                      n_iter=10,\n",
    "                      cv=5,\n",
    "                      verbose=1)\n",
    "        "
   ]
  },
  {
   "cell_type": "code",
   "execution_count": 23,
   "id": "d6f7ac05",
   "metadata": {},
   "outputs": [
    {
     "name": "stdout",
     "output_type": "stream",
     "text": [
      "Fitting 5 folds for each of 10 candidates, totalling 50 fits\n"
     ]
    }
   ],
   "source": [
    "search=clf.fit(X_train,y_train)"
   ]
  },
  {
   "cell_type": "code",
   "execution_count": 24,
   "id": "0d695a93",
   "metadata": {},
   "outputs": [],
   "source": [
    "res=search.best_params_"
   ]
  },
  {
   "cell_type": "code",
   "execution_count": 25,
   "id": "d1ead6ff",
   "metadata": {},
   "outputs": [
    {
     "data": {
      "text/plain": [
       "{'n_estimators': 500,\n",
       " 'min_samples_split': 10,\n",
       " 'min_samples_leaf': 12,\n",
       " 'max_features': 'auto',\n",
       " 'max_depth': 20}"
      ]
     },
     "execution_count": 25,
     "metadata": {},
     "output_type": "execute_result"
    }
   ],
   "source": [
    "res"
   ]
  },
  {
   "cell_type": "code",
   "execution_count": 38,
   "id": "76bf5aa6",
   "metadata": {},
   "outputs": [],
   "source": [
    "model_3=RandomForestClassifier(**res)\n",
    "\n",
    "model_3.fit(X_train,y_train)\n",
    "y_pred = model_3.predict(X_valid)"
   ]
  },
  {
   "cell_type": "code",
   "execution_count": 39,
   "id": "740b960c",
   "metadata": {},
   "outputs": [
    {
     "name": "stdout",
     "output_type": "stream",
     "text": [
      "Acc score: 84.44%\n",
      "Precision score: 0.87\n",
      "Recall score: 0.83\n",
      "F1 score: 0.85\n"
     ]
    }
   ],
   "source": [
    "check_model(y_valid,y_pred)"
   ]
  },
  {
   "cell_type": "markdown",
   "id": "88e89da9",
   "metadata": {},
   "source": [
    "## 2.1 Using GridSearchCV\n",
    "\n",
    "- it's similar to RandomSearchCV, the difference is RandomSearchCV creates only the number of model combinations specified in\n",
    "it's n_iter parameter.\n",
    "\n",
    "- GridSearchCV doesn't have a n_iter parameter and goes trough all the possible combinations, meaning greater precision,BUT much more computing power needed as well."
   ]
  },
  {
   "cell_type": "markdown",
   "id": "3e3edfcf",
   "metadata": {},
   "source": [
    "# Putting it all together"
   ]
  },
  {
   "cell_type": "markdown",
   "id": "855933b9",
   "metadata": {},
   "source": [
    "##  Using Pipeline\n",
    "- Creating a sequence of step that lead to data fiting. For example applying certain transformation methods and then fitting the data into a certain model"
   ]
  },
  {
   "cell_type": "markdown",
   "id": "48fcbf86",
   "metadata": {},
   "source": [
    "### Steps to take\n",
    "1. Fill missing Data\n",
    "2. Convert data to numbers\n",
    "3. Build a model on the data"
   ]
  },
  {
   "cell_type": "code",
   "execution_count": 27,
   "id": "04a4d6c3",
   "metadata": {},
   "outputs": [],
   "source": [
    "## Data Preprocessing\n",
    "import pandas as pd\n",
    "from sklearn.compose import ColumnTransformer\n",
    "from sklearn.preprocessing import OneHotEncoder\n",
    "from sklearn.impute import SimpleImputer\n",
    "from sklearn.pipeline import Pipeline\n",
    "\n",
    "data=pd.read_csv(\"zero-to-mastery-ml-master/data/car-sales-extended-missing-data.csv\")\n",
    "data.dropna(subset=[\"Price\"],inplace=True)\n",
    "X=data.drop(\"Price\",axis=1)\n",
    "y=data[\"Price\"]\n"
   ]
  },
  {
   "cell_type": "code",
   "execution_count": 33,
   "id": "0c924378",
   "metadata": {},
   "outputs": [
    {
     "data": {
      "text/plain": [
       "(Make             47\n",
       " Colour           46\n",
       " Odometer (KM)    48\n",
       " Doors            47\n",
       " Price             0\n",
       " dtype: int64,\n",
       " Make              object\n",
       " Colour            object\n",
       " Odometer (KM)    float64\n",
       " Doors            float64\n",
       " Price            float64\n",
       " dtype: object)"
      ]
     },
     "execution_count": 33,
     "metadata": {},
     "output_type": "execute_result"
    }
   ],
   "source": [
    "data.isna().sum(),data.dtypes"
   ]
  },
  {
   "cell_type": "code",
   "execution_count": 43,
   "id": "951c0669",
   "metadata": {},
   "outputs": [],
   "source": [
    "import numpy as np\n",
    "\n",
    "np.random.seed(42)\n",
    "\n",
    "##Creating Sub-Pipelines for transforming each columns. Expecially usefull for the cat_features columns, where we \n",
    "#first have to replace NaN values with something, and then we can apply the OneHotEncoder (we need a certain flow here)#\n",
    "cat_features = [\"Make\",\"Colour\"]\n",
    "cat_transformer=Pipeline([(\"imputer_1\", SimpleImputer(strategy=\"constant\",fill_value=\"missing\")),\n",
    "                         (\"hot_1\", OneHotEncoder(handle_unknown=\"ignore\"))])\n",
    "\n",
    "door_features = [\"Doors\"]\n",
    "door_transformer = Pipeline([(\"imputer_2\", SimpleImputer(strategy=\"most_frequent\"))])\n",
    "\n",
    "odometer_features = [\"Odometer (KM)\"]\n",
    "odometer_transformer= Pipeline([(\"imputer_3\", SimpleImputer(strategy=\"mean\"))])\n",
    "\n",
    "column_transformer= ColumnTransformer([(\"cat\", cat_transformer, cat_features),\n",
    "                                      (\"doors\", door_transformer, door_features),\n",
    "                                      (\"odometer\", odometer_transformer,odometer_features)])\n",
    "\n",
    "## Creating a transformation and modelling pipeline\n",
    "from sklearn.ensemble import RandomForestRegressor\n",
    "\n",
    "\n",
    "## This is the main Pipeline - 1st we transform the data and then we fit it to the model\n",
    "pipeline = Pipeline([(\"transforming\",column_transformer),\n",
    "                    (\"model\", RandomForestRegressor(n_estimators=100))])"
   ]
  },
  {
   "cell_type": "code",
   "execution_count": 44,
   "id": "30952672",
   "metadata": {},
   "outputs": [],
   "source": [
    "## Dividing the data\n",
    "from sklearn.model_selection import train_test_split\n",
    "\n",
    "X_train,X_test,y_train,y_test = train_test_split(X,y,test_size=0.3)"
   ]
  },
  {
   "cell_type": "code",
   "execution_count": 45,
   "id": "265c8fec",
   "metadata": {},
   "outputs": [
    {
     "data": {
      "text/plain": [
       "Pipeline(steps=[('transforming',\n",
       "                 ColumnTransformer(transformers=[('cat',\n",
       "                                                  Pipeline(steps=[('imputer_1',\n",
       "                                                                   SimpleImputer(fill_value='missing',\n",
       "                                                                                 strategy='constant')),\n",
       "                                                                  ('hot_1',\n",
       "                                                                   OneHotEncoder(handle_unknown='ignore'))]),\n",
       "                                                  ['Make', 'Colour']),\n",
       "                                                 ('doors',\n",
       "                                                  Pipeline(steps=[('imputer_2',\n",
       "                                                                   SimpleImputer(strategy='most_frequent'))]),\n",
       "                                                  ['Doors']),\n",
       "                                                 ('odometer',\n",
       "                                                  Pipeline(steps=[('imputer_3',\n",
       "                                                                   SimpleImputer())]),\n",
       "                                                  ['Odometer (KM)'])])),\n",
       "                ('model', RandomForestRegressor())])"
      ]
     },
     "execution_count": 45,
     "metadata": {},
     "output_type": "execute_result"
    }
   ],
   "source": [
    "pipeline.fit(X_train,y_train)"
   ]
  },
  {
   "cell_type": "code",
   "execution_count": 46,
   "id": "4837412c",
   "metadata": {},
   "outputs": [
    {
     "data": {
      "text/plain": [
       "0.2323456655743631"
      ]
     },
     "execution_count": 46,
     "metadata": {},
     "output_type": "execute_result"
    }
   ],
   "source": [
    "pipeline.score(X_test,y_test)"
   ]
  },
  {
   "cell_type": "code",
   "execution_count": 52,
   "id": "fe0fb1b7",
   "metadata": {},
   "outputs": [
    {
     "name": "stdout",
     "output_type": "stream",
     "text": [
      "Fitting 4 folds for each of 8 candidates, totalling 32 fits\n"
     ]
    },
    {
     "data": {
      "text/plain": [
       "GridSearchCV(cv=4,\n",
       "             estimator=Pipeline(steps=[('transforming',\n",
       "                                        ColumnTransformer(transformers=[('cat',\n",
       "                                                                         Pipeline(steps=[('imputer_1',\n",
       "                                                                                          SimpleImputer(fill_value='missing',\n",
       "                                                                                                        strategy='constant')),\n",
       "                                                                                         ('hot_1',\n",
       "                                                                                          OneHotEncoder(handle_unknown='ignore'))]),\n",
       "                                                                         ['Make',\n",
       "                                                                          'Colour']),\n",
       "                                                                        ('doors',\n",
       "                                                                         Pipeline(steps=[('imputer_2',\n",
       "                                                                                          SimpleImputer(strategy='most_frequent'))]),\n",
       "                                                                         ['Doors']),\n",
       "                                                                        ('odometer',\n",
       "                                                                         Pipeline(steps=[('imputer_3',\n",
       "                                                                                          SimpleImputer())]),\n",
       "                                                                         ['Odometer '\n",
       "                                                                          '(KM)'])])),\n",
       "                                       ('model', RandomForestRegressor())]),\n",
       "             param_grid={'model__max_depth': [None, 5],\n",
       "                         'model__max_features': ['auto'],\n",
       "                         'model__n_estimators': [100, 250],\n",
       "                         'transforming__odometer__imputer_3__strategy': ['median',\n",
       "                                                                         'mean']},\n",
       "             verbose=1)"
      ]
     },
     "execution_count": 52,
     "metadata": {},
     "output_type": "execute_result"
    }
   ],
   "source": [
    "### Using GridSearchCV to find the best hyperparameters\n",
    "from sklearn.model_selection import GridSearchCV\n",
    "##NOTE: using __ in the dict's keys of 'pipe_grid' is actually a move up into the pipeline namespace\n",
    "\n",
    "pipe_grid={\"transforming__odometer__imputer_3__strategy\":[\"median\",\"mean\"],\n",
    "          \"model__n_estimators\":[100,250],\n",
    "          \"model__max_depth\":[None,5],\n",
    "          \"model__max_features\":[\"auto\"]}\n",
    "\n",
    "gs_model= GridSearchCV(pipeline,param_grid=pipe_grid,cv=4,verbose=1)\n",
    "gs_model.fit(X_train,y_train)"
   ]
  },
  {
   "cell_type": "code",
   "execution_count": 48,
   "id": "8f5416f3",
   "metadata": {},
   "outputs": [
    {
     "data": {
      "text/plain": [
       "0.3634230500781459"
      ]
     },
     "execution_count": 48,
     "metadata": {},
     "output_type": "execute_result"
    }
   ],
   "source": [
    "gs_model.score(X_test,y_test)"
   ]
  },
  {
   "cell_type": "code",
   "execution_count": 50,
   "id": "6d65a82b",
   "metadata": {},
   "outputs": [
    {
     "data": {
      "text/plain": [
       "{'model__max_depth': 5,\n",
       " 'model__max_features': 'auto',\n",
       " 'model__n_estimators': 100,\n",
       " 'transforming__odometer__imputer_3__strategy': 'mean'}"
      ]
     },
     "execution_count": 50,
     "metadata": {},
     "output_type": "execute_result"
    }
   ],
   "source": [
    "gs_model.best_params_"
   ]
  },
  {
   "cell_type": "code",
   "execution_count": null,
   "id": "ec6d0140",
   "metadata": {},
   "outputs": [],
   "source": []
  }
 ],
 "metadata": {
  "kernelspec": {
   "display_name": "Machine_learning",
   "language": "python",
   "name": "machine_learning"
  },
  "language_info": {
   "codemirror_mode": {
    "name": "ipython",
    "version": 3
   },
   "file_extension": ".py",
   "mimetype": "text/x-python",
   "name": "python",
   "nbconvert_exporter": "python",
   "pygments_lexer": "ipython3",
   "version": "3.9.6"
  }
 },
 "nbformat": 4,
 "nbformat_minor": 5
}
