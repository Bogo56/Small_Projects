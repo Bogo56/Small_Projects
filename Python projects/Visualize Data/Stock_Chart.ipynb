{
 "cells": [
  {
   "cell_type": "code",
   "execution_count": 175,
   "id": "e97c6185",
   "metadata": {},
   "outputs": [],
   "source": [
    "import pandas_datareader\n",
    "from datetime import datetime\n",
    "from bokeh.plotting import figure, show, output_file\n",
    "import pandas"
   ]
  },
  {
   "cell_type": "code",
   "execution_count": 176,
   "id": "4fa6c5be",
   "metadata": {},
   "outputs": [],
   "source": [
    "start=datetime(2021,2,1)\n",
    "end=datetime(2021,4,22)\n",
    "\n",
    "\n",
    "df=pandas_datareader.DataReader(\"AAPL\",\"yahoo\",start=start,end=end)"
   ]
  },
  {
   "cell_type": "code",
   "execution_count": 177,
   "id": "7bf61d49",
   "metadata": {},
   "outputs": [
    {
     "data": {
      "text/plain": [
       "Date\n",
       "2021-02-01    133.750000\n",
       "2021-02-04    136.300003\n",
       "2021-02-08    136.029999\n",
       "2021-02-12    134.350006\n",
       "2021-02-18    129.199997\n",
       "2021-02-23    123.760002\n",
       "2021-02-24    124.940002\n",
       "2021-03-01    123.750000\n",
       "2021-03-05    120.980003\n",
       "2021-03-09    119.029999\n",
       "2021-03-12    120.400002\n",
       "2021-03-15    121.410004\n",
       "2021-03-17    124.050003\n",
       "2021-03-19    119.900002\n",
       "2021-03-22    120.330002\n",
       "2021-03-25    119.540001\n",
       "2021-03-26    120.349998\n",
       "2021-03-31    121.650002\n",
       "2021-04-05    123.870003\n",
       "2021-04-07    125.830002\n",
       "2021-04-08    128.949997\n",
       "2021-04-09    129.800003\n",
       "2021-04-13    132.440002\n",
       "2021-04-15    133.820007\n",
       "2021-04-19    133.509995\n",
       "2021-04-21    132.360001\n",
       "Name: Open, dtype: float64"
      ]
     },
     "execution_count": 177,
     "metadata": {},
     "output_type": "execute_result"
    }
   ],
   "source": [
    "#This is Conditional Selection - it selects all rows in the Open Column that have a value lower\n",
    "#than their respective row in the Close Column\n",
    "df.Open[df.Close>df.Open]"
   ]
  },
  {
   "cell_type": "code",
   "execution_count": 178,
   "id": "abf56c44",
   "metadata": {},
   "outputs": [],
   "source": [
    "##Transforming hours to miliseconds\n",
    "## We want to give the rectangle a width of 6 hours before and after the date on the x_axis\n",
    "hour_12=12*60*60*1000\n",
    "\n",
    "bull_market=df[df.Close>df.Open]\n",
    "bear_market=df[df.Close<=df.Open]"
   ]
  },
  {
   "cell_type": "code",
   "execution_count": 179,
   "id": "24fe11ed",
   "metadata": {},
   "outputs": [],
   "source": [
    "p=figure(x_axis_type=\"datetime\",title=\"Stock Market\",height=500, width=1000,sizing_mode=\"scale_width\")\n",
    "\n",
    "\n",
    "p.quad(top=df.High,bottom=df.Low,left=df.index,right=df.index)\n",
    "p.rect(x=bull_market.index,y=(bull_market.Open+bull_market.Close)/2,\n",
    "       width=hour_12,height=bull_market.Close - bull_market.Open,fill_color=\"Green\")\n",
    "p.rect(x=bear_market.index,y=(bear_market.Open+bear_market.Close)/2,\n",
    "       width=hour_12,height=bear_market.Open - bear_market.Close,fill_color='Red')\n",
    "\n",
    "\n",
    "show(p)"
   ]
  },
  {
   "cell_type": "code",
   "execution_count": null,
   "id": "242ff2a7",
   "metadata": {},
   "outputs": [],
   "source": []
  }
 ],
 "metadata": {
  "kernelspec": {
   "display_name": "Python 3",
   "language": "python",
   "name": "python3"
  },
  "language_info": {
   "codemirror_mode": {
    "name": "ipython",
    "version": 3
   },
   "file_extension": ".py",
   "mimetype": "text/x-python",
   "name": "python",
   "nbconvert_exporter": "python",
   "pygments_lexer": "ipython3",
   "version": "3.9.2"
  }
 },
 "nbformat": 4,
 "nbformat_minor": 5
}
