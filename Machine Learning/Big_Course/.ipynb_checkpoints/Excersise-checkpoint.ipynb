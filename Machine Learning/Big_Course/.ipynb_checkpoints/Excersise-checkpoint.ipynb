{
 "cells": [
  {
   "cell_type": "code",
   "execution_count": 2,
   "id": "72651bfb",
   "metadata": {},
   "outputs": [],
   "source": [
    "import numpy as np"
   ]
  },
  {
   "cell_type": "markdown",
   "id": "7b798736",
   "metadata": {},
   "source": [
    "# DataTypes and Attributes "
   ]
  },
  {
   "cell_type": "code",
   "execution_count": 7,
   "id": "57453c35",
   "metadata": {},
   "outputs": [
    {
     "data": {
      "text/plain": [
       "numpy.ndarray"
      ]
     },
     "execution_count": 7,
     "metadata": {},
     "output_type": "execute_result"
    }
   ],
   "source": [
    "a1=np.array([15,67,60])\n",
    "type(a1)"
   ]
  },
  {
   "cell_type": "code",
   "execution_count": 8,
   "id": "3df5e9b0",
   "metadata": {},
   "outputs": [],
   "source": [
    "ranged=np.arange(1,30,2)"
   ]
  },
  {
   "cell_type": "code",
   "execution_count": 9,
   "id": "89183d4c",
   "metadata": {},
   "outputs": [
    {
     "data": {
      "text/plain": [
       "array([ 1,  3,  5,  7,  9, 11, 13, 15, 17, 19, 21, 23, 25, 27, 29])"
      ]
     },
     "execution_count": 9,
     "metadata": {},
     "output_type": "execute_result"
    }
   ],
   "source": [
    "ranged"
   ]
  },
  {
   "cell_type": "code",
   "execution_count": 10,
   "id": "40569703",
   "metadata": {},
   "outputs": [
    {
     "data": {
      "text/plain": [
       "15"
      ]
     },
     "execution_count": 10,
     "metadata": {},
     "output_type": "execute_result"
    }
   ],
   "source": [
    "len(ranged)"
   ]
  },
  {
   "cell_type": "code",
   "execution_count": 11,
   "id": "71950538",
   "metadata": {},
   "outputs": [
    {
     "data": {
      "text/plain": [
       "numpy.ndarray"
      ]
     },
     "execution_count": 11,
     "metadata": {},
     "output_type": "execute_result"
    }
   ],
   "source": [
    "type(ranged)"
   ]
  },
  {
   "cell_type": "code",
   "execution_count": 12,
   "id": "f987cb38",
   "metadata": {},
   "outputs": [
    {
     "data": {
      "text/plain": [
       "dtype('int32')"
      ]
     },
     "execution_count": 12,
     "metadata": {},
     "output_type": "execute_result"
    }
   ],
   "source": [
    "ranged.dtype"
   ]
  },
  {
   "cell_type": "code",
   "execution_count": 35,
   "id": "d9c84765",
   "metadata": {},
   "outputs": [
    {
     "data": {
      "text/plain": [
       "array([[0.4359949 , 0.02592623, 0.54966248, 0.43532239, 0.4203678 ],\n",
       "       [0.33033482, 0.20464863, 0.61927097, 0.29965467, 0.26682728],\n",
       "       [0.62113383, 0.52914209, 0.13457995, 0.51357812, 0.18443987]])"
      ]
     },
     "execution_count": 35,
     "metadata": {},
     "output_type": "execute_result"
    }
   ],
   "source": [
    "np.random.seed(2)\n",
    "np.random.random((3,5))"
   ]
  },
  {
   "cell_type": "code",
   "execution_count": 40,
   "id": "fe518fe3",
   "metadata": {},
   "outputs": [
    {
     "data": {
      "text/plain": [
       "array([[[[0.33187371, 0.48145816, 0.748374  , 0.85783952, 0.41446006],\n",
       "         [0.84868451, 0.44457094, 0.71574708, 0.00844836, 0.02520142],\n",
       "         [0.94045049, 0.10213795, 0.66196779, 0.28325874, 0.20084234]],\n",
       "\n",
       "        [[0.38833418, 0.9259016 , 0.57027421, 0.91671461, 0.70226424],\n",
       "         [0.50121645, 0.50608683, 0.21882079, 0.00466352, 0.41783624],\n",
       "         [0.56337611, 0.87656187, 0.67758484, 0.84233305, 0.92616129]]],\n",
       "\n",
       "\n",
       "       [[[0.94111587, 0.81601915, 0.13139461, 0.34663001, 0.20850249],\n",
       "         [0.86738154, 0.79233022, 0.34900164, 0.56914053, 0.80513154],\n",
       "         [0.83316124, 0.20579368, 0.7306802 , 0.80341416, 0.04312904]],\n",
       "\n",
       "        [[0.1071874 , 0.43508365, 0.22088122, 0.88062207, 0.71968754],\n",
       "         [0.71300729, 0.76985966, 0.33074703, 0.22861025, 0.62634396],\n",
       "         [0.41447925, 0.93678107, 0.64245242, 0.38690034, 0.85511966]]]])"
      ]
     },
     "execution_count": 40,
     "metadata": {},
     "output_type": "execute_result"
    }
   ],
   "source": [
    "a4=np.random.random((2,2,3,5))\n",
    "a4"
   ]
  },
  {
   "cell_type": "markdown",
   "id": "ec69f22c",
   "metadata": {},
   "source": [
    "#### "
   ]
  },
  {
   "cell_type": "code",
   "execution_count": null,
   "id": "a038abc4",
   "metadata": {},
   "outputs": [],
   "source": []
  }
 ],
 "metadata": {
  "kernelspec": {
   "display_name": "Machine_learning",
   "language": "python",
   "name": "machine_learning"
  },
  "language_info": {
   "codemirror_mode": {
    "name": "ipython",
    "version": 3
   },
   "file_extension": ".py",
   "mimetype": "text/x-python",
   "name": "python",
   "nbconvert_exporter": "python",
   "pygments_lexer": "ipython3",
   "version": "3.9.6"
  }
 },
 "nbformat": 4,
 "nbformat_minor": 5
}
